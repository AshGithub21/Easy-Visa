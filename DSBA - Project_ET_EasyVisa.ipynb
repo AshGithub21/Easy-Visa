{
 "cells": [
  {
   "cell_type": "markdown",
   "id": "empty-shanghai",
   "metadata": {
    "id": "empty-shanghai"
   },
   "source": [
    "# EasyVisa Project\n",
    "***Marks: 60***\n",
    "\n",
    "## Context:\n",
    "\n",
    "Business communities in the United States are facing high demand for human resources, but one of the constant challenges is identifying and attracting the right talent, which is perhaps the most important element in remaining competitive. Companies in the United States look for hard-working, talented, and qualified individuals both locally as well as abroad.\n",
    "\n",
    "The Immigration and Nationality Act (INA) of the US permits foreign workers to come to the United States to work on either a temporary or permanent basis. The act also protects US workers against adverse impacts on their wages or working conditions by ensuring US employers' compliance with statutory requirements when they hire foreign workers to fill workforce shortages. The immigration programs are administered by the Office of Foreign Labor Certification (OFLC).\n",
    "\n",
    "OFLC processes job certification applications for employers seeking to bring foreign workers into the United States and grants certifications in those cases where employers can demonstrate that there are not sufficient US workers available to perform the work at wages that meet or exceed the wage paid for the occupation in the area of intended employment.\n",
    "\n",
    "## Objective:\n",
    "\n",
    "In FY 2016, the OFLC processed 775,979 employer applications for 1,699,957 positions for temporary and permanent labor certifications. This was a nine percent increase in the overall number of processed applications from the previous year. The process of reviewing every case is becoming a tedious task as the number of applicants is increasing every year.\n",
    "\n",
    "The increasing number of applicants every year calls for a Machine Learning based solution that can help in shortlisting the candidates having higher chances of VISA approval. OFLC has hired the firm EasyVisa for data-driven solutions. You as a data  scientist at EasyVisa have to analyze the data provided and, with the help of a classification model:\n",
    "\n",
    "* Facilitate the process of visa approvals.\n",
    "* Recommend a suitable profile for the applicants for whom the visa should be certified or denied based on the drivers that significantly influence the case status. \n",
    "\n",
    "## Data Description\n",
    "\n",
    "The data contains the different attributes of employee and the employer. The detailed data dictionary is given below.\n",
    "\n",
    "* case_id: ID of each visa application\n",
    "* continent: Information of continent the employee\n",
    "* education_of_employee: Information of education of the employee\n",
    "* has_job_experience: Does the employee has any job experience? Y= Yes; N = No\n",
    "* requires_job_training: Does the employee require any job training? Y = Yes; N = No \n",
    "* no_of_employees: Number of employees in the employer's company\n",
    "* yr_of_estab: Year in which the employer's company was established\n",
    "* region_of_employment: Information of foreign worker's intended region of employment in the US.\n",
    "* prevailing_wage:  Average wage paid to similarly employed workers in a specific occupation in the area of intended employment. The purpose of the prevailing wage is to ensure that the foreign worker is not underpaid compared to other workers offering the same or similar service in the same area of employment. \n",
    "* unit_of_wage: Unit of prevailing wage. Values include Hourly, Weekly, Monthly, and Yearly.\n",
    "* full_time_position: Is the position of work full-time? Y = Full Time Position; N = Part Time Position\n",
    "* case_status:  Flag indicating if the Visa was certified or denied"
   ]
  },
  {
   "cell_type": "markdown",
   "id": "c1cd4628",
   "metadata": {
    "id": "c1cd4628"
   },
   "source": [
    "### Let us start by importing necessary libraries and data"
   ]
  },
  {
   "cell_type": "code",
   "execution_count": 1,
   "id": "canadian-maple",
   "metadata": {
    "colab": {
     "base_uri": "https://localhost:8080/",
     "height": 554
    },
    "id": "canadian-maple",
    "outputId": "2e2d6b3b-6f98-418d-b22a-2a07c2294b84"
   },
   "outputs": [],
   "source": [
    "# this will help in making the Python code more structured automatically (good coding practice)\n",
    "import warnings\n",
    "\n",
    "warnings.filterwarnings(\"ignore\")\n",
    "\n",
    "# Libraries to help with reading and manipulating data\n",
    "import numpy as np\n",
    "import pandas as pd\n",
    "\n",
    "# Library to split data\n",
    "from sklearn.model_selection import train_test_split\n",
    "\n",
    "# libaries to help with data visualization\n",
    "import matplotlib.pyplot as plt\n",
    "import seaborn as sns\n",
    "\n",
    "# Removes the limit for the number of displayed columns\n",
    "pd.set_option(\"display.max_columns\", None)\n",
    "# Sets the limit for the number of displayed rows\n",
    "pd.set_option(\"display.max_rows\", 100)\n",
    "\n",
    "\n",
    "# Libraries different ensemble classifiers\n",
    "from sklearn.ensemble import (\n",
    "    BaggingClassifier,\n",
    "    RandomForestClassifier,\n",
    "    AdaBoostClassifier,\n",
    "    GradientBoostingClassifier,\n",
    "    StackingClassifier,\n",
    ")\n",
    "\n",
    "from xgboost import XGBClassifier\n",
    "from sklearn.tree import DecisionTreeClassifier\n",
    "\n",
    "# Libraries to get different metric scores\n",
    "from sklearn import metrics\n",
    "from sklearn.metrics import (\n",
    "    confusion_matrix,\n",
    "    accuracy_score,\n",
    "    precision_score,\n",
    "    recall_score,\n",
    "    f1_score,\n",
    ")\n",
    "\n",
    "# To tune different models\n",
    "from sklearn.model_selection import GridSearchCV"
   ]
  },
  {
   "cell_type": "markdown",
   "id": "thorough-passion",
   "metadata": {
    "id": "thorough-passion"
   },
   "source": [
    "## Import Dataset"
   ]
  },
  {
   "cell_type": "code",
   "execution_count": 2,
   "id": "alleged-teaching",
   "metadata": {
    "id": "alleged-teaching"
   },
   "outputs": [],
   "source": [
    "visa = pd.read_csv(\"EasyVisa.csv\")"
   ]
  },
  {
   "cell_type": "code",
   "execution_count": 3,
   "id": "falling-annual",
   "metadata": {
    "id": "falling-annual"
   },
   "outputs": [],
   "source": [
    "# copying data to another variable to avoid any changes to original data\n",
    "data = visa.copy()"
   ]
  },
  {
   "cell_type": "markdown",
   "id": "aboriginal-wrist",
   "metadata": {
    "id": "aboriginal-wrist"
   },
   "source": [
    "### View the first and last 5 rows of the dataset"
   ]
  },
  {
   "cell_type": "code",
   "execution_count": 4,
   "id": "judicial-lease",
   "metadata": {
    "id": "judicial-lease"
   },
   "outputs": [
    {
     "data": {
      "text/html": [
       "<div>\n",
       "<style scoped>\n",
       "    .dataframe tbody tr th:only-of-type {\n",
       "        vertical-align: middle;\n",
       "    }\n",
       "\n",
       "    .dataframe tbody tr th {\n",
       "        vertical-align: top;\n",
       "    }\n",
       "\n",
       "    .dataframe thead th {\n",
       "        text-align: right;\n",
       "    }\n",
       "</style>\n",
       "<table border=\"1\" class=\"dataframe\">\n",
       "  <thead>\n",
       "    <tr style=\"text-align: right;\">\n",
       "      <th></th>\n",
       "      <th>case_id</th>\n",
       "      <th>continent</th>\n",
       "      <th>education_of_employee</th>\n",
       "      <th>has_job_experience</th>\n",
       "      <th>requires_job_training</th>\n",
       "      <th>no_of_employees</th>\n",
       "      <th>yr_of_estab</th>\n",
       "      <th>region_of_employment</th>\n",
       "      <th>prevailing_wage</th>\n",
       "      <th>unit_of_wage</th>\n",
       "      <th>full_time_position</th>\n",
       "      <th>case_status</th>\n",
       "    </tr>\n",
       "  </thead>\n",
       "  <tbody>\n",
       "    <tr>\n",
       "      <th>0</th>\n",
       "      <td>EZYV01</td>\n",
       "      <td>Asia</td>\n",
       "      <td>High School</td>\n",
       "      <td>N</td>\n",
       "      <td>N</td>\n",
       "      <td>14513</td>\n",
       "      <td>2007</td>\n",
       "      <td>West</td>\n",
       "      <td>592.2029</td>\n",
       "      <td>Hour</td>\n",
       "      <td>Y</td>\n",
       "      <td>Denied</td>\n",
       "    </tr>\n",
       "    <tr>\n",
       "      <th>1</th>\n",
       "      <td>EZYV02</td>\n",
       "      <td>Asia</td>\n",
       "      <td>Master's</td>\n",
       "      <td>Y</td>\n",
       "      <td>N</td>\n",
       "      <td>2412</td>\n",
       "      <td>2002</td>\n",
       "      <td>Northeast</td>\n",
       "      <td>83425.6500</td>\n",
       "      <td>Year</td>\n",
       "      <td>Y</td>\n",
       "      <td>Certified</td>\n",
       "    </tr>\n",
       "    <tr>\n",
       "      <th>2</th>\n",
       "      <td>EZYV03</td>\n",
       "      <td>Asia</td>\n",
       "      <td>Bachelor's</td>\n",
       "      <td>N</td>\n",
       "      <td>Y</td>\n",
       "      <td>44444</td>\n",
       "      <td>2008</td>\n",
       "      <td>West</td>\n",
       "      <td>122996.8600</td>\n",
       "      <td>Year</td>\n",
       "      <td>Y</td>\n",
       "      <td>Denied</td>\n",
       "    </tr>\n",
       "    <tr>\n",
       "      <th>3</th>\n",
       "      <td>EZYV04</td>\n",
       "      <td>Asia</td>\n",
       "      <td>Bachelor's</td>\n",
       "      <td>N</td>\n",
       "      <td>N</td>\n",
       "      <td>98</td>\n",
       "      <td>1897</td>\n",
       "      <td>West</td>\n",
       "      <td>83434.0300</td>\n",
       "      <td>Year</td>\n",
       "      <td>Y</td>\n",
       "      <td>Denied</td>\n",
       "    </tr>\n",
       "    <tr>\n",
       "      <th>4</th>\n",
       "      <td>EZYV05</td>\n",
       "      <td>Africa</td>\n",
       "      <td>Master's</td>\n",
       "      <td>Y</td>\n",
       "      <td>N</td>\n",
       "      <td>1082</td>\n",
       "      <td>2005</td>\n",
       "      <td>South</td>\n",
       "      <td>149907.3900</td>\n",
       "      <td>Year</td>\n",
       "      <td>Y</td>\n",
       "      <td>Certified</td>\n",
       "    </tr>\n",
       "  </tbody>\n",
       "</table>\n",
       "</div>"
      ],
      "text/plain": [
       "  case_id continent education_of_employee has_job_experience  \\\n",
       "0  EZYV01      Asia           High School                  N   \n",
       "1  EZYV02      Asia              Master's                  Y   \n",
       "2  EZYV03      Asia            Bachelor's                  N   \n",
       "3  EZYV04      Asia            Bachelor's                  N   \n",
       "4  EZYV05    Africa              Master's                  Y   \n",
       "\n",
       "  requires_job_training  no_of_employees  yr_of_estab region_of_employment  \\\n",
       "0                     N            14513         2007                 West   \n",
       "1                     N             2412         2002            Northeast   \n",
       "2                     Y            44444         2008                 West   \n",
       "3                     N               98         1897                 West   \n",
       "4                     N             1082         2005                South   \n",
       "\n",
       "   prevailing_wage unit_of_wage full_time_position case_status  \n",
       "0         592.2029         Hour                  Y      Denied  \n",
       "1       83425.6500         Year                  Y   Certified  \n",
       "2      122996.8600         Year                  Y      Denied  \n",
       "3       83434.0300         Year                  Y      Denied  \n",
       "4      149907.3900         Year                  Y   Certified  "
      ]
     },
     "execution_count": 4,
     "metadata": {},
     "output_type": "execute_result"
    }
   ],
   "source": [
    "data.head()  "
   ]
  },
  {
   "cell_type": "code",
   "execution_count": 5,
   "id": "descending-david",
   "metadata": {
    "id": "descending-david"
   },
   "outputs": [
    {
     "data": {
      "text/html": [
       "<div>\n",
       "<style scoped>\n",
       "    .dataframe tbody tr th:only-of-type {\n",
       "        vertical-align: middle;\n",
       "    }\n",
       "\n",
       "    .dataframe tbody tr th {\n",
       "        vertical-align: top;\n",
       "    }\n",
       "\n",
       "    .dataframe thead th {\n",
       "        text-align: right;\n",
       "    }\n",
       "</style>\n",
       "<table border=\"1\" class=\"dataframe\">\n",
       "  <thead>\n",
       "    <tr style=\"text-align: right;\">\n",
       "      <th></th>\n",
       "      <th>case_id</th>\n",
       "      <th>continent</th>\n",
       "      <th>education_of_employee</th>\n",
       "      <th>has_job_experience</th>\n",
       "      <th>requires_job_training</th>\n",
       "      <th>no_of_employees</th>\n",
       "      <th>yr_of_estab</th>\n",
       "      <th>region_of_employment</th>\n",
       "      <th>prevailing_wage</th>\n",
       "      <th>unit_of_wage</th>\n",
       "      <th>full_time_position</th>\n",
       "      <th>case_status</th>\n",
       "    </tr>\n",
       "  </thead>\n",
       "  <tbody>\n",
       "    <tr>\n",
       "      <th>25475</th>\n",
       "      <td>EZYV25476</td>\n",
       "      <td>Asia</td>\n",
       "      <td>Bachelor's</td>\n",
       "      <td>Y</td>\n",
       "      <td>Y</td>\n",
       "      <td>2601</td>\n",
       "      <td>2008</td>\n",
       "      <td>South</td>\n",
       "      <td>77092.57</td>\n",
       "      <td>Year</td>\n",
       "      <td>Y</td>\n",
       "      <td>Certified</td>\n",
       "    </tr>\n",
       "    <tr>\n",
       "      <th>25476</th>\n",
       "      <td>EZYV25477</td>\n",
       "      <td>Asia</td>\n",
       "      <td>High School</td>\n",
       "      <td>Y</td>\n",
       "      <td>N</td>\n",
       "      <td>3274</td>\n",
       "      <td>2006</td>\n",
       "      <td>Northeast</td>\n",
       "      <td>279174.79</td>\n",
       "      <td>Year</td>\n",
       "      <td>Y</td>\n",
       "      <td>Certified</td>\n",
       "    </tr>\n",
       "    <tr>\n",
       "      <th>25477</th>\n",
       "      <td>EZYV25478</td>\n",
       "      <td>Asia</td>\n",
       "      <td>Master's</td>\n",
       "      <td>Y</td>\n",
       "      <td>N</td>\n",
       "      <td>1121</td>\n",
       "      <td>1910</td>\n",
       "      <td>South</td>\n",
       "      <td>146298.85</td>\n",
       "      <td>Year</td>\n",
       "      <td>N</td>\n",
       "      <td>Certified</td>\n",
       "    </tr>\n",
       "    <tr>\n",
       "      <th>25478</th>\n",
       "      <td>EZYV25479</td>\n",
       "      <td>Asia</td>\n",
       "      <td>Master's</td>\n",
       "      <td>Y</td>\n",
       "      <td>Y</td>\n",
       "      <td>1918</td>\n",
       "      <td>1887</td>\n",
       "      <td>West</td>\n",
       "      <td>86154.77</td>\n",
       "      <td>Year</td>\n",
       "      <td>Y</td>\n",
       "      <td>Certified</td>\n",
       "    </tr>\n",
       "    <tr>\n",
       "      <th>25479</th>\n",
       "      <td>EZYV25480</td>\n",
       "      <td>Asia</td>\n",
       "      <td>Bachelor's</td>\n",
       "      <td>Y</td>\n",
       "      <td>N</td>\n",
       "      <td>3195</td>\n",
       "      <td>1960</td>\n",
       "      <td>Midwest</td>\n",
       "      <td>70876.91</td>\n",
       "      <td>Year</td>\n",
       "      <td>Y</td>\n",
       "      <td>Certified</td>\n",
       "    </tr>\n",
       "  </tbody>\n",
       "</table>\n",
       "</div>"
      ],
      "text/plain": [
       "         case_id continent education_of_employee has_job_experience  \\\n",
       "25475  EZYV25476      Asia            Bachelor's                  Y   \n",
       "25476  EZYV25477      Asia           High School                  Y   \n",
       "25477  EZYV25478      Asia              Master's                  Y   \n",
       "25478  EZYV25479      Asia              Master's                  Y   \n",
       "25479  EZYV25480      Asia            Bachelor's                  Y   \n",
       "\n",
       "      requires_job_training  no_of_employees  yr_of_estab  \\\n",
       "25475                     Y             2601         2008   \n",
       "25476                     N             3274         2006   \n",
       "25477                     N             1121         1910   \n",
       "25478                     Y             1918         1887   \n",
       "25479                     N             3195         1960   \n",
       "\n",
       "      region_of_employment  prevailing_wage unit_of_wage full_time_position  \\\n",
       "25475                South         77092.57         Year                  Y   \n",
       "25476            Northeast        279174.79         Year                  Y   \n",
       "25477                South        146298.85         Year                  N   \n",
       "25478                 West         86154.77         Year                  Y   \n",
       "25479              Midwest         70876.91         Year                  Y   \n",
       "\n",
       "      case_status  \n",
       "25475   Certified  \n",
       "25476   Certified  \n",
       "25477   Certified  \n",
       "25478   Certified  \n",
       "25479   Certified  "
      ]
     },
     "execution_count": 5,
     "metadata": {},
     "output_type": "execute_result"
    }
   ],
   "source": [
    "data.tail()"
   ]
  },
  {
   "cell_type": "markdown",
   "id": "accessory-camel",
   "metadata": {
    "id": "accessory-camel"
   },
   "source": [
    "### Understand the shape of the dataset"
   ]
  },
  {
   "cell_type": "code",
   "execution_count": 6,
   "id": "regulation-elder",
   "metadata": {
    "id": "regulation-elder"
   },
   "outputs": [
    {
     "data": {
      "text/plain": [
       "(25480, 12)"
      ]
     },
     "execution_count": 6,
     "metadata": {},
     "output_type": "execute_result"
    }
   ],
   "source": [
    "data.shape"
   ]
  },
  {
   "cell_type": "markdown",
   "id": "assigned-berkeley",
   "metadata": {
    "id": "assigned-berkeley"
   },
   "source": [
    "### Check the data types of the columns for the dataset"
   ]
  },
  {
   "cell_type": "code",
   "execution_count": 7,
   "id": "judicial-institute",
   "metadata": {
    "id": "judicial-institute"
   },
   "outputs": [
    {
     "name": "stdout",
     "output_type": "stream",
     "text": [
      "<class 'pandas.core.frame.DataFrame'>\n",
      "RangeIndex: 25480 entries, 0 to 25479\n",
      "Data columns (total 12 columns):\n",
      " #   Column                 Non-Null Count  Dtype  \n",
      "---  ------                 --------------  -----  \n",
      " 0   case_id                25480 non-null  object \n",
      " 1   continent              25480 non-null  object \n",
      " 2   education_of_employee  25480 non-null  object \n",
      " 3   has_job_experience     25480 non-null  object \n",
      " 4   requires_job_training  25480 non-null  object \n",
      " 5   no_of_employees        25480 non-null  int64  \n",
      " 6   yr_of_estab            25480 non-null  int64  \n",
      " 7   region_of_employment   25480 non-null  object \n",
      " 8   prevailing_wage        25480 non-null  float64\n",
      " 9   unit_of_wage           25480 non-null  object \n",
      " 10  full_time_position     25480 non-null  object \n",
      " 11  case_status            25480 non-null  object \n",
      "dtypes: float64(1), int64(2), object(9)\n",
      "memory usage: 2.3+ MB\n"
     ]
    }
   ],
   "source": [
    "data.info()"
   ]
  },
  {
   "cell_type": "code",
   "execution_count": 8,
   "id": "going-validation",
   "metadata": {
    "id": "going-validation"
   },
   "outputs": [
    {
     "data": {
      "text/plain": [
       "0        False\n",
       "1        False\n",
       "2        False\n",
       "3        False\n",
       "4        False\n",
       "         ...  \n",
       "25475    False\n",
       "25476    False\n",
       "25477    False\n",
       "25478    False\n",
       "25479    False\n",
       "Length: 25480, dtype: bool"
      ]
     },
     "execution_count": 8,
     "metadata": {},
     "output_type": "execute_result"
    }
   ],
   "source": [
    "# checking for duplicate values\n",
    "data.duplicated()"
   ]
  },
  {
   "cell_type": "markdown",
   "id": "standing-horizontal",
   "metadata": {
    "id": "standing-horizontal"
   },
   "source": [
    "## Exploratory Data Analysis"
   ]
  },
  {
   "cell_type": "markdown",
   "id": "american-venue",
   "metadata": {
    "id": "american-venue"
   },
   "source": [
    "**Let's check the statistical summary of the data.**"
   ]
  },
  {
   "cell_type": "code",
   "execution_count": 9,
   "id": "premium-wagner",
   "metadata": {
    "id": "premium-wagner"
   },
   "outputs": [
    {
     "data": {
      "text/html": [
       "<div>\n",
       "<style scoped>\n",
       "    .dataframe tbody tr th:only-of-type {\n",
       "        vertical-align: middle;\n",
       "    }\n",
       "\n",
       "    .dataframe tbody tr th {\n",
       "        vertical-align: top;\n",
       "    }\n",
       "\n",
       "    .dataframe thead th {\n",
       "        text-align: right;\n",
       "    }\n",
       "</style>\n",
       "<table border=\"1\" class=\"dataframe\">\n",
       "  <thead>\n",
       "    <tr style=\"text-align: right;\">\n",
       "      <th></th>\n",
       "      <th>no_of_employees</th>\n",
       "      <th>yr_of_estab</th>\n",
       "      <th>prevailing_wage</th>\n",
       "    </tr>\n",
       "  </thead>\n",
       "  <tbody>\n",
       "    <tr>\n",
       "      <th>count</th>\n",
       "      <td>25480.000000</td>\n",
       "      <td>25480.000000</td>\n",
       "      <td>25480.000000</td>\n",
       "    </tr>\n",
       "    <tr>\n",
       "      <th>mean</th>\n",
       "      <td>5667.043210</td>\n",
       "      <td>1979.409929</td>\n",
       "      <td>74455.814592</td>\n",
       "    </tr>\n",
       "    <tr>\n",
       "      <th>std</th>\n",
       "      <td>22877.928848</td>\n",
       "      <td>42.366929</td>\n",
       "      <td>52815.942327</td>\n",
       "    </tr>\n",
       "    <tr>\n",
       "      <th>min</th>\n",
       "      <td>-26.000000</td>\n",
       "      <td>1800.000000</td>\n",
       "      <td>2.136700</td>\n",
       "    </tr>\n",
       "    <tr>\n",
       "      <th>25%</th>\n",
       "      <td>1022.000000</td>\n",
       "      <td>1976.000000</td>\n",
       "      <td>34015.480000</td>\n",
       "    </tr>\n",
       "    <tr>\n",
       "      <th>50%</th>\n",
       "      <td>2109.000000</td>\n",
       "      <td>1997.000000</td>\n",
       "      <td>70308.210000</td>\n",
       "    </tr>\n",
       "    <tr>\n",
       "      <th>75%</th>\n",
       "      <td>3504.000000</td>\n",
       "      <td>2005.000000</td>\n",
       "      <td>107735.512500</td>\n",
       "    </tr>\n",
       "    <tr>\n",
       "      <th>max</th>\n",
       "      <td>602069.000000</td>\n",
       "      <td>2016.000000</td>\n",
       "      <td>319210.270000</td>\n",
       "    </tr>\n",
       "  </tbody>\n",
       "</table>\n",
       "</div>"
      ],
      "text/plain": [
       "       no_of_employees   yr_of_estab  prevailing_wage\n",
       "count     25480.000000  25480.000000     25480.000000\n",
       "mean       5667.043210   1979.409929     74455.814592\n",
       "std       22877.928848     42.366929     52815.942327\n",
       "min         -26.000000   1800.000000         2.136700\n",
       "25%        1022.000000   1976.000000     34015.480000\n",
       "50%        2109.000000   1997.000000     70308.210000\n",
       "75%        3504.000000   2005.000000    107735.512500\n",
       "max      602069.000000   2016.000000    319210.270000"
      ]
     },
     "execution_count": 9,
     "metadata": {},
     "output_type": "execute_result"
    }
   ],
   "source": [
    "data.describe()"
   ]
  },
  {
   "cell_type": "markdown",
   "id": "86af4a1e",
   "metadata": {},
   "source": [
    "- We observe that there are negative values in the number of employees column which needs to be fixed. We see that there are outliers in the prevailing wage column.\n",
    "- We will not normalize the prevailing_wage column into yearly wage since we do not know the exact number of working hours in a day or the exact number of working days in a week and so on."
   ]
  },
  {
   "cell_type": "code",
   "execution_count": 10,
   "id": "b6ef382c",
   "metadata": {},
   "outputs": [
    {
     "data": {
      "text/plain": [
       "case_id                  0\n",
       "continent                0\n",
       "education_of_employee    0\n",
       "has_job_experience       0\n",
       "requires_job_training    0\n",
       "no_of_employees          0\n",
       "yr_of_estab              0\n",
       "region_of_employment     0\n",
       "prevailing_wage          0\n",
       "unit_of_wage             0\n",
       "full_time_position       0\n",
       "case_status              0\n",
       "dtype: int64"
      ]
     },
     "execution_count": 10,
     "metadata": {},
     "output_type": "execute_result"
    }
   ],
   "source": [
    "data.isnull().sum()"
   ]
  },
  {
   "cell_type": "markdown",
   "id": "53c2b35a",
   "metadata": {},
   "source": [
    "- There are no null values in the dataset."
   ]
  },
  {
   "cell_type": "markdown",
   "id": "competent-timing",
   "metadata": {
    "id": "competent-timing"
   },
   "source": [
    "**Fixing the negative values in number of employees columns**"
   ]
  },
  {
   "cell_type": "code",
   "execution_count": 11,
   "id": "5fb9a638",
   "metadata": {},
   "outputs": [
    {
     "data": {
      "text/plain": [
       "(33, 12)"
      ]
     },
     "execution_count": 11,
     "metadata": {},
     "output_type": "execute_result"
    }
   ],
   "source": [
    "data.loc[data[\"no_of_employees\"] < 0].shape"
   ]
  },
  {
   "cell_type": "code",
   "execution_count": 12,
   "id": "prescription-bosnia",
   "metadata": {
    "id": "prescription-bosnia"
   },
   "outputs": [
    {
     "data": {
      "text/html": [
       "<div>\n",
       "<style scoped>\n",
       "    .dataframe tbody tr th:only-of-type {\n",
       "        vertical-align: middle;\n",
       "    }\n",
       "\n",
       "    .dataframe tbody tr th {\n",
       "        vertical-align: top;\n",
       "    }\n",
       "\n",
       "    .dataframe thead th {\n",
       "        text-align: right;\n",
       "    }\n",
       "</style>\n",
       "<table border=\"1\" class=\"dataframe\">\n",
       "  <thead>\n",
       "    <tr style=\"text-align: right;\">\n",
       "      <th></th>\n",
       "      <th>no_of_employees</th>\n",
       "      <th>yr_of_estab</th>\n",
       "      <th>prevailing_wage</th>\n",
       "    </tr>\n",
       "  </thead>\n",
       "  <tbody>\n",
       "    <tr>\n",
       "      <th>count</th>\n",
       "      <td>25480.000000</td>\n",
       "      <td>25480.000000</td>\n",
       "      <td>25480.000000</td>\n",
       "    </tr>\n",
       "    <tr>\n",
       "      <th>mean</th>\n",
       "      <td>5667.089207</td>\n",
       "      <td>1979.409929</td>\n",
       "      <td>74455.814592</td>\n",
       "    </tr>\n",
       "    <tr>\n",
       "      <th>std</th>\n",
       "      <td>22877.917453</td>\n",
       "      <td>42.366929</td>\n",
       "      <td>52815.942327</td>\n",
       "    </tr>\n",
       "    <tr>\n",
       "      <th>min</th>\n",
       "      <td>11.000000</td>\n",
       "      <td>1800.000000</td>\n",
       "      <td>2.136700</td>\n",
       "    </tr>\n",
       "    <tr>\n",
       "      <th>25%</th>\n",
       "      <td>1022.000000</td>\n",
       "      <td>1976.000000</td>\n",
       "      <td>34015.480000</td>\n",
       "    </tr>\n",
       "    <tr>\n",
       "      <th>50%</th>\n",
       "      <td>2109.000000</td>\n",
       "      <td>1997.000000</td>\n",
       "      <td>70308.210000</td>\n",
       "    </tr>\n",
       "    <tr>\n",
       "      <th>75%</th>\n",
       "      <td>3504.000000</td>\n",
       "      <td>2005.000000</td>\n",
       "      <td>107735.512500</td>\n",
       "    </tr>\n",
       "    <tr>\n",
       "      <th>max</th>\n",
       "      <td>602069.000000</td>\n",
       "      <td>2016.000000</td>\n",
       "      <td>319210.270000</td>\n",
       "    </tr>\n",
       "  </tbody>\n",
       "</table>\n",
       "</div>"
      ],
      "text/plain": [
       "       no_of_employees   yr_of_estab  prevailing_wage\n",
       "count     25480.000000  25480.000000     25480.000000\n",
       "mean       5667.089207   1979.409929     74455.814592\n",
       "std       22877.917453     42.366929     52815.942327\n",
       "min          11.000000   1800.000000         2.136700\n",
       "25%        1022.000000   1976.000000     34015.480000\n",
       "50%        2109.000000   1997.000000     70308.210000\n",
       "75%        3504.000000   2005.000000    107735.512500\n",
       "max      602069.000000   2016.000000    319210.270000"
      ]
     },
     "execution_count": 12,
     "metadata": {},
     "output_type": "execute_result"
    }
   ],
   "source": [
    "# taking the absolute values for number of employees\n",
    "data[\"no_of_employees\"] = data[\"no_of_employees\"].abs()\n",
    "data.describe()"
   ]
  },
  {
   "cell_type": "markdown",
   "id": "cutting-bookmark",
   "metadata": {
    "id": "cutting-bookmark"
   },
   "source": [
    "**Let's check the count of each unique category in each of the categorical variables.** "
   ]
  },
  {
   "cell_type": "code",
   "execution_count": 13,
   "id": "minute-helmet",
   "metadata": {
    "id": "minute-helmet"
   },
   "outputs": [
    {
     "name": "stdout",
     "output_type": "stream",
     "text": [
      "EZYV19532    1\n",
      "EZYV19227    1\n",
      "EZYV24629    1\n",
      "EZYV14224    1\n",
      "EZYV1082     1\n",
      "            ..\n",
      "EZYV23457    1\n",
      "EZYV23506    1\n",
      "EZYV5299     1\n",
      "EZYV14228    1\n",
      "EZYV19303    1\n",
      "Name: case_id, Length: 25480, dtype: int64\n",
      "Asia             16861\n",
      "Europe            3732\n",
      "North America     3292\n",
      "South America      852\n",
      "Africa             551\n",
      "Oceania            192\n",
      "Name: continent, dtype: int64\n",
      "Bachelor's     10234\n",
      "Master's        9634\n",
      "High School     3420\n",
      "Doctorate       2192\n",
      "Name: education_of_employee, dtype: int64\n",
      "Y    14802\n",
      "N    10678\n",
      "Name: has_job_experience, dtype: int64\n",
      "N    22525\n",
      "Y     2955\n",
      "Name: requires_job_training, dtype: int64\n",
      "Northeast    7195\n",
      "South        7017\n",
      "West         6586\n",
      "Midwest      4307\n",
      "Island        375\n",
      "Name: region_of_employment, dtype: int64\n",
      "Year     22962\n",
      "Hour      2157\n",
      "Week       272\n",
      "Month       89\n",
      "Name: unit_of_wage, dtype: int64\n",
      "Y    22773\n",
      "N     2707\n",
      "Name: full_time_position, dtype: int64\n",
      "Certified    17018\n",
      "Denied        8462\n",
      "Name: case_status, dtype: int64\n"
     ]
    }
   ],
   "source": [
    "# Making a list of all categorical variables\n",
    "cat_var_col = list(data.select_dtypes(\"object\").columns)\n",
    "\n",
    "# Printing number of count of each unique value in each column\n",
    "for column in cat_var_col:\n",
    "    print(data[column].value_counts())"
   ]
  },
  {
   "cell_type": "code",
   "execution_count": 14,
   "id": "occupied-classroom",
   "metadata": {
    "id": "occupied-classroom"
   },
   "outputs": [
    {
     "data": {
      "text/plain": [
       "array(['EZYV01', 'EZYV02', 'EZYV03', ..., 'EZYV25478', 'EZYV25479',\n",
       "       'EZYV25480'], dtype=object)"
      ]
     },
     "execution_count": 14,
     "metadata": {},
     "output_type": "execute_result"
    }
   ],
   "source": [
    "# checking the number of unique values\n",
    "data[\"case_id\"].unique() "
   ]
  },
  {
   "cell_type": "code",
   "execution_count": 15,
   "id": "existing-sociology",
   "metadata": {
    "id": "existing-sociology"
   },
   "outputs": [
    {
     "data": {
      "text/html": [
       "<div>\n",
       "<style scoped>\n",
       "    .dataframe tbody tr th:only-of-type {\n",
       "        vertical-align: middle;\n",
       "    }\n",
       "\n",
       "    .dataframe tbody tr th {\n",
       "        vertical-align: top;\n",
       "    }\n",
       "\n",
       "    .dataframe thead th {\n",
       "        text-align: right;\n",
       "    }\n",
       "</style>\n",
       "<table border=\"1\" class=\"dataframe\">\n",
       "  <thead>\n",
       "    <tr style=\"text-align: right;\">\n",
       "      <th></th>\n",
       "      <th>continent</th>\n",
       "      <th>education_of_employee</th>\n",
       "      <th>has_job_experience</th>\n",
       "      <th>requires_job_training</th>\n",
       "      <th>no_of_employees</th>\n",
       "      <th>yr_of_estab</th>\n",
       "      <th>region_of_employment</th>\n",
       "      <th>prevailing_wage</th>\n",
       "      <th>unit_of_wage</th>\n",
       "      <th>full_time_position</th>\n",
       "      <th>case_status</th>\n",
       "    </tr>\n",
       "  </thead>\n",
       "  <tbody>\n",
       "    <tr>\n",
       "      <th>0</th>\n",
       "      <td>Asia</td>\n",
       "      <td>High School</td>\n",
       "      <td>N</td>\n",
       "      <td>N</td>\n",
       "      <td>14513</td>\n",
       "      <td>2007</td>\n",
       "      <td>West</td>\n",
       "      <td>592.2029</td>\n",
       "      <td>Hour</td>\n",
       "      <td>Y</td>\n",
       "      <td>Denied</td>\n",
       "    </tr>\n",
       "    <tr>\n",
       "      <th>1</th>\n",
       "      <td>Asia</td>\n",
       "      <td>Master's</td>\n",
       "      <td>Y</td>\n",
       "      <td>N</td>\n",
       "      <td>2412</td>\n",
       "      <td>2002</td>\n",
       "      <td>Northeast</td>\n",
       "      <td>83425.6500</td>\n",
       "      <td>Year</td>\n",
       "      <td>Y</td>\n",
       "      <td>Certified</td>\n",
       "    </tr>\n",
       "    <tr>\n",
       "      <th>2</th>\n",
       "      <td>Asia</td>\n",
       "      <td>Bachelor's</td>\n",
       "      <td>N</td>\n",
       "      <td>Y</td>\n",
       "      <td>44444</td>\n",
       "      <td>2008</td>\n",
       "      <td>West</td>\n",
       "      <td>122996.8600</td>\n",
       "      <td>Year</td>\n",
       "      <td>Y</td>\n",
       "      <td>Denied</td>\n",
       "    </tr>\n",
       "    <tr>\n",
       "      <th>3</th>\n",
       "      <td>Asia</td>\n",
       "      <td>Bachelor's</td>\n",
       "      <td>N</td>\n",
       "      <td>N</td>\n",
       "      <td>98</td>\n",
       "      <td>1897</td>\n",
       "      <td>West</td>\n",
       "      <td>83434.0300</td>\n",
       "      <td>Year</td>\n",
       "      <td>Y</td>\n",
       "      <td>Denied</td>\n",
       "    </tr>\n",
       "    <tr>\n",
       "      <th>4</th>\n",
       "      <td>Africa</td>\n",
       "      <td>Master's</td>\n",
       "      <td>Y</td>\n",
       "      <td>N</td>\n",
       "      <td>1082</td>\n",
       "      <td>2005</td>\n",
       "      <td>South</td>\n",
       "      <td>149907.3900</td>\n",
       "      <td>Year</td>\n",
       "      <td>Y</td>\n",
       "      <td>Certified</td>\n",
       "    </tr>\n",
       "  </tbody>\n",
       "</table>\n",
       "</div>"
      ],
      "text/plain": [
       "  continent education_of_employee has_job_experience requires_job_training  \\\n",
       "0      Asia           High School                  N                     N   \n",
       "1      Asia              Master's                  Y                     N   \n",
       "2      Asia            Bachelor's                  N                     Y   \n",
       "3      Asia            Bachelor's                  N                     N   \n",
       "4    Africa              Master's                  Y                     N   \n",
       "\n",
       "   no_of_employees  yr_of_estab region_of_employment  prevailing_wage  \\\n",
       "0            14513         2007                 West         592.2029   \n",
       "1             2412         2002            Northeast       83425.6500   \n",
       "2            44444         2008                 West      122996.8600   \n",
       "3               98         1897                 West       83434.0300   \n",
       "4             1082         2005                South      149907.3900   \n",
       "\n",
       "  unit_of_wage full_time_position case_status  \n",
       "0         Hour                  Y      Denied  \n",
       "1         Year                  Y   Certified  \n",
       "2         Year                  Y      Denied  \n",
       "3         Year                  Y      Denied  \n",
       "4         Year                  Y   Certified  "
      ]
     },
     "execution_count": 15,
     "metadata": {},
     "output_type": "execute_result"
    }
   ],
   "source": [
    "data.drop(\"case_id\", axis=1, inplace=True) \n",
    "data.head()"
   ]
  },
  {
   "cell_type": "markdown",
   "id": "58be21eb",
   "metadata": {},
   "source": [
    "#### Leading Questions:\n",
    "\n",
    "- Those with higher education may want to travel abroad for a well-paid job. Does education play a role in Visa certification?\n",
    "\n",
    "- How does the visa status vary across different continents?\n",
    "\n",
    "- Experienced professionals might look abroad for opportunities to improve their lifestyles and career development. Does work experience influence visa status?\n",
    "\n",
    "- In the United States, employees are paid at different intervals. Which pay unit is most likely to be certified for a visa?\n",
    "\n",
    "- The US government has established a prevailing wage to protect local talent and foreign workers. How does the visa status change with the prevailing wage?"
   ]
  },
  {
   "cell_type": "markdown",
   "id": "wooden-christian",
   "metadata": {
    "id": "wooden-christian"
   },
   "source": [
    "### Univariate Analysis"
   ]
  },
  {
   "cell_type": "code",
   "execution_count": 16,
   "id": "superb-springfield",
   "metadata": {
    "id": "superb-springfield"
   },
   "outputs": [],
   "source": [
    "# function to plot a boxplot and a histogram along the same scale.\n",
    "def histogram_boxplot(data, feature, figsize=(12, 7), kde=False, bins=None):\n",
    "    \"\"\"\n",
    "    Boxplot and histogram combined\n",
    "\n",
    "    data: dataframe\n",
    "    feature: dataframe column\n",
    "    figsize: size of figure (default (12,7))\n",
    "    kde: whether to the show density curve (default False)\n",
    "    bins: number of bins for histogram (default None)\n",
    "    \"\"\"\n",
    "    f2, (ax_box2, ax_hist2) = plt.subplots(\n",
    "        nrows=2,  # Number of rows of the subplot grid= 2\n",
    "        sharex=True,  # x-axis will be shared among all subplots\n",
    "        gridspec_kw={\"height_ratios\": (0.25, 0.75)},\n",
    "        figsize=figsize,\n",
    "    )  # creating the 2 subplots\n",
    "    sns.boxplot(\n",
    "        data=data, x=feature, ax=ax_box2, showmeans=True, color=\"violet\"\n",
    "    )  # boxplot will be created and a star will indicate the mean value of the column\n",
    "    sns.histplot(\n",
    "        data=data, x=feature, kde=kde, ax=ax_hist2, bins=bins, palette=\"winter\"\n",
    "    ) if bins else sns.histplot(\n",
    "        data=data, x=feature, kde=kde, ax=ax_hist2\n",
    "    )  # For histogram\n",
    "    ax_hist2.axvline(\n",
    "        data[feature].mean(), color=\"green\", linestyle=\"--\"\n",
    "    )  # Add mean to the histogram\n",
    "    ax_hist2.axvline(\n",
    "        data[feature].median(), color=\"black\", linestyle=\"-\"\n",
    "    )  # Add median to the histogram"
   ]
  },
  {
   "cell_type": "markdown",
   "id": "comic-inventory",
   "metadata": {
    "id": "comic-inventory"
   },
   "source": [
    "### Observations on number of employees"
   ]
  },
  {
   "cell_type": "code",
   "execution_count": 17,
   "id": "loaded-commercial",
   "metadata": {
    "id": "loaded-commercial"
   },
   "outputs": [
    {
     "data": {
      "image/png": "[encoded data removed]",
      "text/plain": [
       "<Figure size 864x504 with 2 Axes>"
      ]
     },
     "metadata": {
      "needs_background": "light"
     },
     "output_type": "display_data"
    }
   ],
   "source": [
    "histogram_boxplot(data, \"no_of_employees\")"
   ]
  },
  {
   "cell_type": "markdown",
   "id": "metric-apparel",
   "metadata": {
    "id": "metric-apparel"
   },
   "source": [
    "### Observations on prevailing wage"
   ]
  },
  {
   "cell_type": "code",
   "execution_count": 18,
   "id": "duplicate-theater",
   "metadata": {
    "id": "duplicate-theater"
   },
   "outputs": [
    {
     "data": {
      "image/png": "[encoded data removed]",
      "text/plain": [
       "<Figure size 864x504 with 2 Axes>"
      ]
     },
     "metadata": {
      "needs_background": "light"
     },
     "output_type": "display_data"
    }
   ],
   "source": [
    "histogram_boxplot(data,\"prevailing_wage\" ) "
   ]
  },
  {
   "cell_type": "markdown",
   "id": "19c7b305",
   "metadata": {},
   "source": [
    "- The prevailing wage has many outliers."
   ]
  },
  {
   "cell_type": "code",
   "execution_count": 19,
   "id": "legendary-stone",
   "metadata": {
    "id": "legendary-stone"
   },
   "outputs": [
    {
     "data": {
      "text/plain": [
       "338      Hour\n",
       "634      Hour\n",
       "839      Hour\n",
       "876      Hour\n",
       "995      Hour\n",
       "         ... \n",
       "25023    Hour\n",
       "25258    Hour\n",
       "25308    Hour\n",
       "25329    Hour\n",
       "25461    Hour\n",
       "Name: unit_of_wage, Length: 176, dtype: object"
      ]
     },
     "execution_count": 19,
     "metadata": {},
     "output_type": "execute_result"
    }
   ],
   "source": [
    "# checking the observations which have less than 100 prevailing wage\n",
    "data.loc[data[\"prevailing_wage\"] < 100, \"unit_of_wage\"]"
   ]
  },
  {
   "cell_type": "code",
   "execution_count": 20,
   "id": "handmade-carroll",
   "metadata": {
    "id": "handmade-carroll"
   },
   "outputs": [
    {
     "data": {
      "text/plain": [
       "Hour    176\n",
       "Name: unit_of_wage, dtype: int64"
      ]
     },
     "execution_count": 20,
     "metadata": {},
     "output_type": "execute_result"
    }
   ],
   "source": [
    "data.loc[data[\"prevailing_wage\"] < 100, \"unit_of_wage\"].value_counts() "
   ]
  },
  {
   "cell_type": "code",
   "execution_count": 21,
   "id": "proof-drove",
   "metadata": {
    "id": "proof-drove"
   },
   "outputs": [],
   "source": [
    "# function to create labeled barplots\n",
    "\n",
    "\n",
    "def labeled_barplot(data, feature, perc=False, n=None):\n",
    "    \"\"\"\n",
    "    Barplot with percentage at the top\n",
    "\n",
    "    data: dataframe\n",
    "    feature: dataframe column\n",
    "    perc: whether to display percentages instead of count (default is False)\n",
    "    n: displays the top n category levels (default is None, i.e., display all levels)\n",
    "    \"\"\"\n",
    "\n",
    "    total = len(data[feature])  # length of the column\n",
    "    count = data[feature].nunique()\n",
    "    if n is None:\n",
    "        plt.figure(figsize=(count + 1, 5))\n",
    "    else:\n",
    "        plt.figure(figsize=(n + 1, 5))\n",
    "\n",
    "    plt.xticks(rotation=90, fontsize=15)\n",
    "    ax = sns.countplot(\n",
    "        data=data,\n",
    "        x=feature,\n",
    "        palette=\"Paired\",\n",
    "        order=data[feature].value_counts().index[:n].sort_values(),\n",
    "    )\n",
    "\n",
    "    for p in ax.patches:\n",
    "        if perc == True:\n",
    "            label = \"{:.1f}%\".format(\n",
    "                100 * p.get_height() / total\n",
    "            )  # percentage of each class of the category\n",
    "        else:\n",
    "            label = p.get_height()  # count of each level of the category\n",
    "\n",
    "        x = p.get_x() + p.get_width() / 2  # width of the plot\n",
    "        y = p.get_height()  # height of the plot\n",
    "\n",
    "        ax.annotate(\n",
    "            label,\n",
    "            (x, y),\n",
    "            ha=\"center\",\n",
    "            va=\"center\",\n",
    "            size=12,\n",
    "            xytext=(0, 5),\n",
    "            textcoords=\"offset points\",\n",
    "        )  # annotate the percentage\n",
    "\n",
    "    plt.show()  # show the plot"
   ]
  },
  {
   "cell_type": "markdown",
   "id": "bulgarian-parts",
   "metadata": {
    "id": "bulgarian-parts"
   },
   "source": [
    "### Observations on continent"
   ]
  },
  {
   "cell_type": "code",
   "execution_count": 22,
   "id": "artistic-accounting",
   "metadata": {
    "id": "artistic-accounting"
   },
   "outputs": [
    {
     "data": {
      "image/png": "[encoded data removed]",
      "text/plain": [
       "<Figure size 504x360 with 1 Axes>"
      ]
     },
     "metadata": {
      "needs_background": "light"
     },
     "output_type": "display_data"
    }
   ],
   "source": [
    "labeled_barplot(data, \"continent\", perc=True) "
   ]
  },
  {
   "cell_type": "markdown",
   "id": "434d1240",
   "metadata": {},
   "source": [
    "- We observe that the highest number of employees are from Asia."
   ]
  },
  {
   "cell_type": "code",
   "execution_count": 23,
   "id": "f7590e5a",
   "metadata": {},
   "outputs": [
    {
     "data": {
      "text/plain": [
       "Index(['continent', 'education_of_employee', 'has_job_experience',\n",
       "       'requires_job_training', 'no_of_employees', 'yr_of_estab',\n",
       "       'region_of_employment', 'prevailing_wage', 'unit_of_wage',\n",
       "       'full_time_position', 'case_status'],\n",
       "      dtype='object')"
      ]
     },
     "execution_count": 23,
     "metadata": {},
     "output_type": "execute_result"
    }
   ],
   "source": [
    "data.columns"
   ]
  },
  {
   "cell_type": "markdown",
   "id": "editorial-command",
   "metadata": {
    "id": "editorial-command"
   },
   "source": [
    "### Observations on education of employee"
   ]
  },
  {
   "cell_type": "code",
   "execution_count": 24,
   "id": "express-harrison",
   "metadata": {
    "id": "express-harrison"
   },
   "outputs": [
    {
     "data": {
      "image/png": "[encoded data removed]",
      "text/plain": [
       "<Figure size 360x360 with 1 Axes>"
      ]
     },
     "metadata": {
      "needs_background": "light"
     },
     "output_type": "display_data"
    }
   ],
   "source": [
    "labeled_barplot(data,'education_of_employee') "
   ]
  },
  {
   "cell_type": "markdown",
   "id": "c4dd1fd7",
   "metadata": {},
   "source": [
    "- Highest number of employees in the dataset have a Bachelor's degree."
   ]
  },
  {
   "cell_type": "markdown",
   "id": "forbidden-kidney",
   "metadata": {
    "id": "forbidden-kidney"
   },
   "source": [
    "### Observations on job experience"
   ]
  },
  {
   "cell_type": "code",
   "execution_count": 25,
   "id": "exterior-rings",
   "metadata": {
    "id": "exterior-rings"
   },
   "outputs": [
    {
     "data": {
      "image/png": "[encoded data removed]",
      "text/plain": [
       "<Figure size 216x360 with 1 Axes>"
      ]
     },
     "metadata": {
      "needs_background": "light"
     },
     "output_type": "display_data"
    }
   ],
   "source": [
    "labeled_barplot(data, 'has_job_experience') "
   ]
  },
  {
   "cell_type": "markdown",
   "id": "5725aaff",
   "metadata": {},
   "source": [
    "- The number of employees with job experience is more when compared to employees without experience."
   ]
  },
  {
   "cell_type": "markdown",
   "id": "amateur-above",
   "metadata": {
    "id": "amateur-above"
   },
   "source": [
    "### Observations on job training"
   ]
  },
  {
   "cell_type": "code",
   "execution_count": 26,
   "id": "serial-irrigation",
   "metadata": {
    "id": "serial-irrigation",
    "scrolled": false
   },
   "outputs": [
    {
     "data": {
      "image/png": "[encoded data removed]",
      "text/plain": [
       "<Figure size 216x360 with 1 Axes>"
      ]
     },
     "metadata": {
      "needs_background": "light"
     },
     "output_type": "display_data"
    }
   ],
   "source": [
    "labeled_barplot(data, 'requires_job_training') "
   ]
  },
  {
   "cell_type": "markdown",
   "id": "6b85109b",
   "metadata": {},
   "source": [
    "- Very less employees need training as compared to those who don't require training."
   ]
  },
  {
   "cell_type": "markdown",
   "id": "attempted-burlington",
   "metadata": {
    "id": "attempted-burlington"
   },
   "source": [
    "### Observations on region of employment"
   ]
  },
  {
   "cell_type": "code",
   "execution_count": 27,
   "id": "suited-tuner",
   "metadata": {
    "id": "suited-tuner"
   },
   "outputs": [
    {
     "data": {
      "image/png": "[encoded data removed]",
      "text/plain": [
       "<Figure size 432x360 with 1 Axes>"
      ]
     },
     "metadata": {
      "needs_background": "light"
     },
     "output_type": "display_data"
    }
   ],
   "source": [
    "labeled_barplot(data, 'region_of_employment') "
   ]
  },
  {
   "cell_type": "markdown",
   "id": "84520a6c",
   "metadata": {},
   "source": [
    "- North East is the highest region of employment."
   ]
  },
  {
   "cell_type": "markdown",
   "id": "aging-curve",
   "metadata": {
    "id": "aging-curve"
   },
   "source": [
    "### Observations on unit of wage"
   ]
  },
  {
   "cell_type": "code",
   "execution_count": 28,
   "id": "modified-breed",
   "metadata": {
    "id": "modified-breed"
   },
   "outputs": [
    {
     "data": {
      "image/png": "[encoded data removed]",
      "text/plain": [
       "<Figure size 360x360 with 1 Axes>"
      ]
     },
     "metadata": {
      "needs_background": "light"
     },
     "output_type": "display_data"
    }
   ],
   "source": [
    "labeled_barplot(data,'unit_of_wage') "
   ]
  },
  {
   "cell_type": "markdown",
   "id": "df7a0096",
   "metadata": {},
   "source": [
    "- The unit of wage for maximum employees is annual."
   ]
  },
  {
   "cell_type": "markdown",
   "id": "stunning-surrey",
   "metadata": {
    "id": "stunning-surrey"
   },
   "source": [
    "### Observations on case status"
   ]
  },
  {
   "cell_type": "code",
   "execution_count": 29,
   "id": "potential-stroke",
   "metadata": {
    "id": "potential-stroke"
   },
   "outputs": [
    {
     "data": {
      "image/png": "[encoded data removed]",
      "text/plain": [
       "<Figure size 216x360 with 1 Axes>"
      ]
     },
     "metadata": {
      "needs_background": "light"
     },
     "output_type": "display_data"
    }
   ],
   "source": [
    "labeled_barplot(data,'case_status')  "
   ]
  },
  {
   "cell_type": "markdown",
   "id": "213938b9",
   "metadata": {},
   "source": [
    "- The visa status denied is less when compared to the certified ones."
   ]
  },
  {
   "cell_type": "markdown",
   "id": "equivalent-aging",
   "metadata": {
    "id": "equivalent-aging"
   },
   "source": [
    "### Bivariate Analysis"
   ]
  },
  {
   "cell_type": "code",
   "execution_count": 30,
   "id": "social-wagner",
   "metadata": {
    "id": "social-wagner"
   },
   "outputs": [
    {
     "data": {
      "image/png": "[encoded data removed]",
      "text/plain": [
       "<Figure size 720x360 with 2 Axes>"
      ]
     },
     "metadata": {
      "needs_background": "light"
     },
     "output_type": "display_data"
    }
   ],
   "source": [
    "#cols_list = data.select_dtypes(include=np.number).columns.tolist()\n",
    "\n",
    "plt.figure(figsize=(10, 5))\n",
    "sns.heatmap(\n",
    "    data.corr(), annot=True, vmin=-1, vmax=1, fmt=\".2f\", cmap=\"Spectral\"\n",
    ")\n",
    "plt.show()"
   ]
  },
  {
   "cell_type": "markdown",
   "id": "a99b8f02",
   "metadata": {},
   "source": [
    "- We do not see any significant corelation between the numeric variables."
   ]
  },
  {
   "cell_type": "markdown",
   "id": "blond-convertible",
   "metadata": {
    "id": "blond-convertible"
   },
   "source": [
    "**Creating functions that will help us with further analysis.**"
   ]
  },
  {
   "cell_type": "code",
   "execution_count": 31,
   "id": "adaptive-recipient",
   "metadata": {
    "id": "adaptive-recipient"
   },
   "outputs": [],
   "source": [
    "### function to plot distributions wrt target\n",
    "\n",
    "\n",
    "def distribution_plot_wrt_target(data, predictor, target):\n",
    "\n",
    "    fig, axs = plt.subplots(2, 2, figsize=(12, 10))\n",
    "\n",
    "    target_uniq = data[target].unique()\n",
    "\n",
    "    axs[0, 0].set_title(\"Distribution of target for target=\" + str(target_uniq[0]))\n",
    "    sns.histplot(\n",
    "        data=data[data[target] == target_uniq[0]],\n",
    "        x=predictor,\n",
    "        kde=True,\n",
    "        ax=axs[0, 0],\n",
    "        color=\"teal\",\n",
    "        stat=\"density\",\n",
    "    )\n",
    "\n",
    "    axs[0, 1].set_title(\"Distribution of target for target=\" + str(target_uniq[1]))\n",
    "    sns.histplot(\n",
    "        data=data[data[target] == target_uniq[1]],\n",
    "        x=predictor,\n",
    "        kde=True,\n",
    "        ax=axs[0, 1],\n",
    "        color=\"orange\",\n",
    "        stat=\"density\",\n",
    "    )\n",
    "\n",
    "    axs[1, 0].set_title(\"Boxplot w.r.t target\")\n",
    "    sns.boxplot(data=data, x=target, y=predictor, ax=axs[1, 0], palette=\"gist_rainbow\")\n",
    "\n",
    "    axs[1, 1].set_title(\"Boxplot (without outliers) w.r.t target\")\n",
    "    sns.boxplot(\n",
    "        data=data,\n",
    "        x=target,\n",
    "        y=predictor,\n",
    "        ax=axs[1, 1],\n",
    "        showfliers=False,\n",
    "        palette=\"gist_rainbow\",\n",
    "    )\n",
    "\n",
    "    plt.tight_layout()\n",
    "    plt.show()"
   ]
  },
  {
   "cell_type": "code",
   "execution_count": 32,
   "id": "third-sheriff",
   "metadata": {
    "id": "third-sheriff"
   },
   "outputs": [],
   "source": [
    "def stacked_barplot(data, predictor, target):\n",
    "    \"\"\"\n",
    "    Print the category counts and plot a stacked bar chart\n",
    "\n",
    "    data: dataframe\n",
    "    predictor: independent variable\n",
    "    target: target variable\n",
    "    \"\"\"\n",
    "    count = data[predictor].nunique()\n",
    "    sorter = data[target].value_counts().index[-1]\n",
    "    tab1 = pd.crosstab(data[predictor], data[target], margins=True).sort_values(\n",
    "        by=sorter, ascending=False\n",
    "    )\n",
    "    print(tab1)\n",
    "    print(\"-\" * 120)\n",
    "    tab = pd.crosstab(data[predictor], data[target], normalize=\"index\").sort_values(\n",
    "        by=sorter, ascending=False\n",
    "    )\n",
    "    tab.plot(kind=\"bar\", stacked=True, figsize=(count + 5, 5))\n",
    "    plt.legend(\n",
    "        loc=\"lower left\", frameon=False,\n",
    "    )\n",
    "    plt.legend(loc=\"upper left\", bbox_to_anchor=(1, 1))\n",
    "    plt.show()"
   ]
  },
  {
   "cell_type": "markdown",
   "id": "dressed-excuse",
   "metadata": {
    "id": "dressed-excuse"
   },
   "source": [
    "**Let's check if education has any impact on visa certification**"
   ]
  },
  {
   "cell_type": "code",
   "execution_count": 33,
   "id": "special-florist",
   "metadata": {
    "id": "special-florist"
   },
   "outputs": [
    {
     "name": "stdout",
     "output_type": "stream",
     "text": [
      "case_status            Certified  Denied    All\n",
      "education_of_employee                          \n",
      "All                        17018    8462  25480\n",
      "Bachelor's                  6367    3867  10234\n",
      "High School                 1164    2256   3420\n",
      "Master's                    7575    2059   9634\n",
      "Doctorate                   1912     280   2192\n",
      "------------------------------------------------------------------------------------------------------------------------\n"
     ]
    },
    {
     "data": {
      "image/png": "[encoded data removed]",
      "text/plain": [
       "<Figure size 648x360 with 1 Axes>"
      ]
     },
     "metadata": {
      "needs_background": "light"
     },
     "output_type": "display_data"
    }
   ],
   "source": [
    "stacked_barplot(data, \"education_of_employee\", \"case_status\")"
   ]
  },
  {
   "cell_type": "markdown",
   "id": "3a0ad008",
   "metadata": {},
   "source": [
    "- We observe that higher the education, the number of visas denied is less. Hence we see that the higher education plays an important role in Visa certification."
   ]
  },
  {
   "cell_type": "code",
   "execution_count": 34,
   "id": "02ff0102",
   "metadata": {},
   "outputs": [
    {
     "name": "stdout",
     "output_type": "stream",
     "text": [
      "case_status         Certified  Denied    All\n",
      "full_time_position                          \n",
      "All                     17018    8462  25480\n",
      "Y                       15163    7610  22773\n",
      "N                        1855     852   2707\n",
      "------------------------------------------------------------------------------------------------------------------------\n"
     ]
    },
    {
     "data": {
      "image/png": "[encoded data removed]",
      "text/plain": [
       "<Figure size 504x360 with 1 Axes>"
      ]
     },
     "metadata": {
      "needs_background": "light"
     },
     "output_type": "display_data"
    }
   ],
   "source": [
    "stacked_barplot(data, \"full_time_position\", \"case_status\")"
   ]
  },
  {
   "cell_type": "markdown",
   "id": "60643d80",
   "metadata": {},
   "source": [
    "- No significant change in case status with respect to full time position."
   ]
  },
  {
   "cell_type": "markdown",
   "id": "wound-communication",
   "metadata": {
    "id": "wound-communication"
   },
   "source": [
    "**Let's check if different regions have different requirements of educational backgrounds.**"
   ]
  },
  {
   "cell_type": "code",
   "execution_count": 35,
   "id": "tamil-intelligence",
   "metadata": {
    "id": "tamil-intelligence"
   },
   "outputs": [
    {
     "data": {
      "image/png": "[encoded data removed]",
      "text/plain": [
       "<Figure size 720x360 with 2 Axes>"
      ]
     },
     "metadata": {
      "needs_background": "light"
     },
     "output_type": "display_data"
    }
   ],
   "source": [
    "plt.figure(figsize=(10, 5))\n",
    "sns.heatmap(pd.crosstab(data.education_of_employee,data.region_of_employment),\n",
    "    annot=True,\n",
    "    fmt=\"g\",\n",
    "    cmap=\"viridis\",\n",
    ")  \n",
    "plt.ylabel(\"Education\")\n",
    "plt.xlabel(\"Region\")\n",
    "plt.show()"
   ]
  },
  {
   "cell_type": "markdown",
   "id": "c3f6f201",
   "metadata": {},
   "source": [
    "- Regions like Northeast, South and West are seen to be employing more people with Bachelor's and Master's degree."
   ]
  },
  {
   "cell_type": "markdown",
   "id": "theoretical-flexibility",
   "metadata": {
    "id": "theoretical-flexibility"
   },
   "source": [
    "**Let's have a look at the percentage of visa certifications across each region**"
   ]
  },
  {
   "cell_type": "code",
   "execution_count": 36,
   "id": "hybrid-zealand",
   "metadata": {
    "id": "hybrid-zealand"
   },
   "outputs": [
    {
     "data": {
      "image/png": "[encoded data removed]",
      "text/plain": [
       "<Figure size 720x360 with 2 Axes>"
      ]
     },
     "metadata": {
      "needs_background": "light"
     },
     "output_type": "display_data"
    }
   ],
   "source": [
    "plt.figure(figsize=(10, 5))\n",
    "sns.heatmap(pd.crosstab(data.case_status,data.region_of_employment),\n",
    "    annot=True,\n",
    "    fmt=\"g\",\n",
    "    cmap=\"viridis\",\n",
    ") \n",
    "plt.ylabel(\"Visa\")\n",
    "plt.xlabel(\"Region\")\n",
    "plt.show() "
   ]
  },
  {
   "cell_type": "markdown",
   "id": "1014cea5",
   "metadata": {},
   "source": [
    "- We observe that the highest number of visas that are certified are in South region."
   ]
  },
  {
   "cell_type": "markdown",
   "id": "attended-current",
   "metadata": {
    "id": "attended-current"
   },
   "source": [
    "**Lets' check how the visa status vary across different continents.**"
   ]
  },
  {
   "cell_type": "code",
   "execution_count": 37,
   "id": "alive-bloom",
   "metadata": {
    "id": "alive-bloom"
   },
   "outputs": [
    {
     "data": {
      "image/png": "[encoded data removed]",
      "text/plain": [
       "<Figure size 720x360 with 2 Axes>"
      ]
     },
     "metadata": {
      "needs_background": "light"
     },
     "output_type": "display_data"
    }
   ],
   "source": [
    "plt.figure(figsize=(10, 5))\n",
    "sns.heatmap(pd.crosstab(data.case_status,data.continent),\n",
    "    annot=True,\n",
    "    fmt=\"g\",\n",
    "    cmap=\"viridis\",\n",
    ")  \n",
    "plt.ylabel(\"Visa\")\n",
    "plt.xlabel(\"continent\")\n",
    "plt.show() "
   ]
  },
  {
   "cell_type": "markdown",
   "id": "03d57cd6",
   "metadata": {},
   "source": [
    "- We observe that the visa status varies across different continents. Most of the visas certified are from Asia and that is in bigger numbers."
   ]
  },
  {
   "cell_type": "markdown",
   "id": "macro-decrease",
   "metadata": {
    "id": "macro-decrease"
   },
   "source": [
    "**Let's check if having work experience has any influence over visa certification** "
   ]
  },
  {
   "cell_type": "code",
   "execution_count": 38,
   "id": "divine-dimension",
   "metadata": {
    "id": "divine-dimension"
   },
   "outputs": [
    {
     "data": {
      "image/png": "[encoded data removed]",
      "text/plain": [
       "<Figure size 720x360 with 2 Axes>"
      ]
     },
     "metadata": {
      "needs_background": "light"
     },
     "output_type": "display_data"
    }
   ],
   "source": [
    " plt.figure(figsize=(10, 5))\n",
    "sns.heatmap(pd.crosstab(data.case_status,data.has_job_experience),\n",
    "    annot=True,\n",
    "    fmt=\"g\",\n",
    "    cmap=\"viridis\",\n",
    ") \n",
    "plt.ylabel(\"visa\")\n",
    "plt.xlabel(\"job experience\")\n",
    "plt.show()"
   ]
  },
  {
   "cell_type": "markdown",
   "id": "7c104e9b",
   "metadata": {},
   "source": [
    "- We see clearly that having work experience has influence over visa certification. The employees with work experience are more likely to be certified."
   ]
  },
  {
   "cell_type": "markdown",
   "id": "binding-charger",
   "metadata": {
    "id": "binding-charger"
   },
   "source": [
    "**Do the employees who have prior work experience require any job training?**"
   ]
  },
  {
   "cell_type": "code",
   "execution_count": 39,
   "id": "temporal-dairy",
   "metadata": {
    "id": "temporal-dairy"
   },
   "outputs": [
    {
     "data": {
      "image/png": "[encoded data removed]",
      "text/plain": [
       "<Figure size 720x360 with 2 Axes>"
      ]
     },
     "metadata": {
      "needs_background": "light"
     },
     "output_type": "display_data"
    }
   ],
   "source": [
    " plt.figure(figsize=(10, 5))\n",
    "sns.heatmap(pd.crosstab(data.requires_job_training,data.has_job_experience),\n",
    "    annot=True,\n",
    "    fmt=\"g\",\n",
    "    cmap=\"viridis\",\n",
    ")  \n",
    "plt.ylabel(\"job training\")\n",
    "plt.xlabel(\"job experience\")\n",
    "plt.show() "
   ]
  },
  {
   "cell_type": "markdown",
   "id": "4dc7ea7d",
   "metadata": {},
   "source": [
    "- Obviously, many of the employees with job experience do not need training."
   ]
  },
  {
   "cell_type": "markdown",
   "id": "lesser-bacteria",
   "metadata": {
    "id": "lesser-bacteria"
   },
   "source": [
    "**Let's check if the visa status changes with the prevailing wage**"
   ]
  },
  {
   "cell_type": "code",
   "execution_count": 40,
   "id": "perfect-haiti",
   "metadata": {
    "id": "perfect-haiti"
   },
   "outputs": [
    {
     "data": {
      "image/png": "[encoded data removed]",
      "text/plain": [
       "<Figure size 864x720 with 4 Axes>"
      ]
     },
     "metadata": {
      "needs_background": "light"
     },
     "output_type": "display_data"
    }
   ],
   "source": [
    "distribution_plot_wrt_target(data,\"case_status\",\"prevailing_wage\") "
   ]
  },
  {
   "cell_type": "markdown",
   "id": "255744c9",
   "metadata": {},
   "source": [
    "- We observe that higher the prevailing wage, high chance of visa being certified."
   ]
  },
  {
   "cell_type": "code",
   "execution_count": 41,
   "id": "7642bc77",
   "metadata": {},
   "outputs": [
    {
     "data": {
      "text/plain": [
       "Index(['continent', 'education_of_employee', 'has_job_experience',\n",
       "       'requires_job_training', 'no_of_employees', 'yr_of_estab',\n",
       "       'region_of_employment', 'prevailing_wage', 'unit_of_wage',\n",
       "       'full_time_position', 'case_status'],\n",
       "      dtype='object')"
      ]
     },
     "execution_count": 41,
     "metadata": {},
     "output_type": "execute_result"
    }
   ],
   "source": [
    "data.columns"
   ]
  },
  {
   "cell_type": "markdown",
   "id": "changing-kansas",
   "metadata": {
    "id": "changing-kansas"
   },
   "source": [
    "**Checking if the prevailing wage is similar across all the regions of the US**"
   ]
  },
  {
   "cell_type": "code",
   "execution_count": 42,
   "id": "dangerous-pride",
   "metadata": {
    "id": "dangerous-pride"
   },
   "outputs": [
    {
     "data": {
      "text/plain": [
       "<AxesSubplot:xlabel='region_of_employment', ylabel='prevailing_wage'>"
      ]
     },
     "execution_count": 42,
     "metadata": {},
     "output_type": "execute_result"
    },
    {
     "data": {
      "image/png": "[encoded data removed]",
      "text/plain": [
       "<Figure size 432x288 with 1 Axes>"
      ]
     },
     "metadata": {
      "needs_background": "light"
     },
     "output_type": "display_data"
    }
   ],
   "source": [
    "sns.boxplot(data= data,x = 'region_of_employment',y = 'prevailing_wage')\n"
   ]
  },
  {
   "cell_type": "markdown",
   "id": "d863d5d6",
   "metadata": {},
   "source": [
    "- We see that prevailing wage is different across regions."
   ]
  },
  {
   "cell_type": "markdown",
   "id": "suspected-asthma",
   "metadata": {
    "id": "suspected-asthma"
   },
   "source": [
    "**Let's check if prevailing wage has any impact on visa applications getting certified.**"
   ]
  },
  {
   "cell_type": "code",
   "execution_count": 43,
   "id": "impossible-aquatic",
   "metadata": {
    "id": "impossible-aquatic"
   },
   "outputs": [
    {
     "name": "stdout",
     "output_type": "stream",
     "text": [
      "case_status   Certified  Denied    All\n",
      "unit_of_wage                          \n",
      "All               17018    8462  25480\n",
      "Year              16047    6915  22962\n",
      "Hour                747    1410   2157\n",
      "Week                169     103    272\n",
      "Month                55      34     89\n",
      "------------------------------------------------------------------------------------------------------------------------\n"
     ]
    },
    {
     "data": {
      "image/png": "[encoded data removed]",
      "text/plain": [
       "<Figure size 648x360 with 1 Axes>"
      ]
     },
     "metadata": {
      "needs_background": "light"
     },
     "output_type": "display_data"
    }
   ],
   "source": [
    "stacked_barplot(data,'unit_of_wage', \"case_status\")"
   ]
  },
  {
   "cell_type": "markdown",
   "id": "4a7ef4ec",
   "metadata": {},
   "source": [
    "- Pay unit that is annual, monthly and weekly (in that order) is most likely to be certified for a visa."
   ]
  },
  {
   "cell_type": "markdown",
   "id": "allied-association",
   "metadata": {
    "id": "allied-association"
   },
   "source": [
    "### Outlier Check\n",
    "\n",
    "- Let's check for outliers in the data."
   ]
  },
  {
   "cell_type": "code",
   "execution_count": 44,
   "id": "certified-complaint",
   "metadata": {
    "id": "certified-complaint"
   },
   "outputs": [
    {
     "data": {
      "image/png": "[encoded data removed]",
      "text/plain": [
       "<Figure size 1080x2520 with 3 Axes>"
      ]
     },
     "metadata": {
      "needs_background": "light"
     },
     "output_type": "display_data"
    }
   ],
   "source": [
    "# outlier detection using boxplot\n",
    "numeric_columns = data.select_dtypes(include=np.number).columns.tolist()\n",
    "\n",
    "\n",
    "plt.figure(figsize=(15, 35))\n",
    "\n",
    "for i, variable in enumerate(numeric_columns):\n",
    "    plt.subplot(9, 3, i + 1)\n",
    "    plt.boxplot(data[variable], whis=1.5)\n",
    "    plt.tight_layout()\n",
    "    plt.title(variable) \n",
    "plt.show()\n"
   ]
  },
  {
   "cell_type": "markdown",
   "id": "flexible-independence",
   "metadata": {
    "id": "flexible-independence"
   },
   "source": [
    "### Data Preparation for modeling\n",
    "\n",
    "- We want to predict which visa will be certified.\n",
    "- Before we proceed to build a model, we'll have to encode categorical features.\n",
    "- We'll split the data into train and test to be able to evaluate the model that we build on the train data."
   ]
  },
  {
   "cell_type": "code",
   "execution_count": 45,
   "id": "60aea69d",
   "metadata": {},
   "outputs": [
    {
     "data": {
      "text/html": [
       "<div>\n",
       "<style scoped>\n",
       "    .dataframe tbody tr th:only-of-type {\n",
       "        vertical-align: middle;\n",
       "    }\n",
       "\n",
       "    .dataframe tbody tr th {\n",
       "        vertical-align: top;\n",
       "    }\n",
       "\n",
       "    .dataframe thead th {\n",
       "        text-align: right;\n",
       "    }\n",
       "</style>\n",
       "<table border=\"1\" class=\"dataframe\">\n",
       "  <thead>\n",
       "    <tr style=\"text-align: right;\">\n",
       "      <th></th>\n",
       "      <th>continent</th>\n",
       "      <th>education_of_employee</th>\n",
       "      <th>has_job_experience</th>\n",
       "      <th>requires_job_training</th>\n",
       "      <th>no_of_employees</th>\n",
       "      <th>yr_of_estab</th>\n",
       "      <th>region_of_employment</th>\n",
       "      <th>prevailing_wage</th>\n",
       "      <th>unit_of_wage</th>\n",
       "      <th>full_time_position</th>\n",
       "      <th>case_status</th>\n",
       "    </tr>\n",
       "  </thead>\n",
       "  <tbody>\n",
       "    <tr>\n",
       "      <th>0</th>\n",
       "      <td>Asia</td>\n",
       "      <td>High School</td>\n",
       "      <td>N</td>\n",
       "      <td>N</td>\n",
       "      <td>14513</td>\n",
       "      <td>2007</td>\n",
       "      <td>West</td>\n",
       "      <td>592.2029</td>\n",
       "      <td>Hour</td>\n",
       "      <td>Y</td>\n",
       "      <td>0</td>\n",
       "    </tr>\n",
       "    <tr>\n",
       "      <th>1</th>\n",
       "      <td>Asia</td>\n",
       "      <td>Master's</td>\n",
       "      <td>Y</td>\n",
       "      <td>N</td>\n",
       "      <td>2412</td>\n",
       "      <td>2002</td>\n",
       "      <td>Northeast</td>\n",
       "      <td>83425.6500</td>\n",
       "      <td>Year</td>\n",
       "      <td>Y</td>\n",
       "      <td>1</td>\n",
       "    </tr>\n",
       "    <tr>\n",
       "      <th>2</th>\n",
       "      <td>Asia</td>\n",
       "      <td>Bachelor's</td>\n",
       "      <td>N</td>\n",
       "      <td>Y</td>\n",
       "      <td>44444</td>\n",
       "      <td>2008</td>\n",
       "      <td>West</td>\n",
       "      <td>122996.8600</td>\n",
       "      <td>Year</td>\n",
       "      <td>Y</td>\n",
       "      <td>0</td>\n",
       "    </tr>\n",
       "    <tr>\n",
       "      <th>3</th>\n",
       "      <td>Asia</td>\n",
       "      <td>Bachelor's</td>\n",
       "      <td>N</td>\n",
       "      <td>N</td>\n",
       "      <td>98</td>\n",
       "      <td>1897</td>\n",
       "      <td>West</td>\n",
       "      <td>83434.0300</td>\n",
       "      <td>Year</td>\n",
       "      <td>Y</td>\n",
       "      <td>0</td>\n",
       "    </tr>\n",
       "    <tr>\n",
       "      <th>4</th>\n",
       "      <td>Africa</td>\n",
       "      <td>Master's</td>\n",
       "      <td>Y</td>\n",
       "      <td>N</td>\n",
       "      <td>1082</td>\n",
       "      <td>2005</td>\n",
       "      <td>South</td>\n",
       "      <td>149907.3900</td>\n",
       "      <td>Year</td>\n",
       "      <td>Y</td>\n",
       "      <td>1</td>\n",
       "    </tr>\n",
       "  </tbody>\n",
       "</table>\n",
       "</div>"
      ],
      "text/plain": [
       "  continent education_of_employee has_job_experience requires_job_training  \\\n",
       "0      Asia           High School                  N                     N   \n",
       "1      Asia              Master's                  Y                     N   \n",
       "2      Asia            Bachelor's                  N                     Y   \n",
       "3      Asia            Bachelor's                  N                     N   \n",
       "4    Africa              Master's                  Y                     N   \n",
       "\n",
       "   no_of_employees  yr_of_estab region_of_employment  prevailing_wage  \\\n",
       "0            14513         2007                 West         592.2029   \n",
       "1             2412         2002            Northeast       83425.6500   \n",
       "2            44444         2008                 West      122996.8600   \n",
       "3               98         1897                 West       83434.0300   \n",
       "4             1082         2005                South      149907.3900   \n",
       "\n",
       "  unit_of_wage full_time_position  case_status  \n",
       "0         Hour                  Y            0  \n",
       "1         Year                  Y            1  \n",
       "2         Year                  Y            0  \n",
       "3         Year                  Y            0  \n",
       "4         Year                  Y            1  "
      ]
     },
     "execution_count": 45,
     "metadata": {},
     "output_type": "execute_result"
    }
   ],
   "source": [
    "data[\"case_status\"] = data[\"case_status\"].apply(lambda x: 1 if x == \"Certified\" else 0)\n",
    "data.head()"
   ]
  },
  {
   "cell_type": "code",
   "execution_count": 46,
   "id": "a709b15e",
   "metadata": {},
   "outputs": [],
   "source": [
    "X = data.drop([\"case_status\"],axis=1) \n",
    "y = data[\"case_status\"]"
   ]
  },
  {
   "cell_type": "code",
   "execution_count": 47,
   "id": "genuine-evening",
   "metadata": {
    "id": "genuine-evening"
   },
   "outputs": [],
   "source": [
    "X = pd.get_dummies(\n",
    "    X,\n",
    "    columns=X.select_dtypes(include=[\"object\", \"category\"]).columns.tolist(),\n",
    "    drop_first=True,\n",
    ")\n",
    "\n",
    "# to ensure all variables are of float type\n",
    "X = X.astype(float)\n",
    "\n",
    "X.head() \n",
    "\n",
    "# Splitting data in train and test sets\n",
    "X_train, X_test, y_train, y_test = train_test_split(X, y, test_size=0.3,random_state=1, stratify=y) "
   ]
  },
  {
   "cell_type": "code",
   "execution_count": 48,
   "id": "empty-typing",
   "metadata": {
    "id": "empty-typing"
   },
   "outputs": [
    {
     "name": "stdout",
     "output_type": "stream",
     "text": [
      "Shape of Training set :  (17836, 21)\n",
      "Shape of test set :  (7644, 21)\n",
      "Percentage of classes in training set:\n",
      "1    0.667919\n",
      "0    0.332081\n",
      "Name: case_status, dtype: float64\n",
      "Percentage of classes in test set:\n",
      "1    0.667844\n",
      "0    0.332156\n",
      "Name: case_status, dtype: float64\n"
     ]
    }
   ],
   "source": [
    "print(\"Shape of Training set : \", X_train.shape)\n",
    "print(\"Shape of test set : \", X_test.shape)\n",
    "print(\"Percentage of classes in training set:\")\n",
    "print(y_train.value_counts(normalize=True))\n",
    "print(\"Percentage of classes in test set:\")\n",
    "print(y_test.value_counts(normalize=True))"
   ]
  },
  {
   "cell_type": "markdown",
   "id": "71450807",
   "metadata": {},
   "source": [
    "### Model evaluation criterion\n",
    "\n",
    "### Model can make wrong predictions as:\n",
    "\n",
    "1. Model predicts that the visa application will get certified but in reality, the visa application should get denied.\n",
    "2. Model predicts that the visa application will not get certified but in reality, the visa application should get certified. \n",
    "\n",
    "### Which case is more important? \n",
    "* Both the cases are important as:\n",
    "\n",
    "* If a visa is certified when it had to be denied a wrong employee will get the job position while US citizens will miss the opportunity to work on that position.\n",
    "\n",
    "* If a visa is denied when it had to be certified the U.S. will lose a suitable human resource that can contribute to the economy. \n",
    "\n",
    "\n",
    "\n",
    "### How to reduce the losses?\n",
    "\n",
    "* `F1 Score` can be used a the metric for evaluation of the model, greater the F1  score higher are the chances of minimizing False Negatives and False Positives. \n",
    "* We will use balanced class weights so that model focuses equally on both classes."
   ]
  },
  {
   "cell_type": "markdown",
   "id": "capital-charlotte",
   "metadata": {
    "id": "capital-charlotte"
   },
   "source": [
    "#### First, let's create functions to calculate different metrics and confusion matrix so that we don't have to use the same code repeatedly for each model.\n",
    "* The model_performance_classification_sklearn function will be used to check the model performance of models. \n",
    "* The confusion_matrix_sklearn function will be used to plot the confusion matrix."
   ]
  },
  {
   "cell_type": "code",
   "execution_count": 49,
   "id": "mexican-database",
   "metadata": {
    "id": "mexican-database"
   },
   "outputs": [],
   "source": [
    "# defining a function to compute different metrics to check performance of a classification model built using sklearn\n",
    "\n",
    "\n",
    "def model_performance_classification_sklearn(model, predictors, target):\n",
    "    \"\"\"\n",
    "    Function to compute different metrics to check classification model performance\n",
    "\n",
    "    model: classifier\n",
    "    predictors: independent variables\n",
    "    target: dependent variable\n",
    "    \"\"\"\n",
    "\n",
    "    # predicting using the independent variables\n",
    "    pred = model.predict(predictors)\n",
    "\n",
    "    acc = accuracy_score(target, pred)  # to compute Accuracy\n",
    "    recall = recall_score(target, pred)  # to compute Recall\n",
    "    precision = precision_score(target, pred)  # to compute Precision\n",
    "    f1 = f1_score(target, pred)  # to compute F1-score\n",
    "\n",
    "    # creating a dataframe of metrics\n",
    "    df_perf = pd.DataFrame(\n",
    "        {\"Accuracy\": acc, \"Recall\": recall, \"Precision\": precision, \"F1\": f1,},\n",
    "        index=[0],\n",
    "    )\n",
    "\n",
    "    return df_perf"
   ]
  },
  {
   "cell_type": "code",
   "execution_count": 50,
   "id": "recreational-topic",
   "metadata": {
    "id": "recreational-topic"
   },
   "outputs": [],
   "source": [
    "def confusion_matrix_sklearn(model, predictors, target):\n",
    "    \"\"\"\n",
    "    To plot the confusion_matrix with percentages\n",
    "\n",
    "    model: classifier\n",
    "    predictors: independent variables\n",
    "    target: dependent variable\n",
    "    \"\"\"\n",
    "    y_pred = model.predict(predictors)\n",
    "    cm = confusion_matrix(target, y_pred)\n",
    "    labels = np.asarray(\n",
    "        [\n",
    "            [\"{0:0.0f}\".format(item) + \"\\n{0:.2%}\".format(item / cm.flatten().sum())]\n",
    "            for item in cm.flatten()\n",
    "        ]\n",
    "    ).reshape(2, 2)\n",
    "\n",
    "    plt.figure(figsize=(6, 4))\n",
    "    sns.heatmap(cm, annot=labels, fmt=\"\")\n",
    "    plt.ylabel(\"True label\")\n",
    "    plt.xlabel(\"Predicted label\")"
   ]
  },
  {
   "cell_type": "markdown",
   "id": "blank-ballet",
   "metadata": {
    "id": "blank-ballet"
   },
   "source": [
    "### Decision Tree Model"
   ]
  },
  {
   "cell_type": "code",
   "execution_count": 51,
   "id": "hourly-hormone",
   "metadata": {
    "id": "hourly-hormone"
   },
   "outputs": [
    {
     "data": {
      "text/plain": [
       "DecisionTreeClassifier(random_state=1)"
      ]
     },
     "execution_count": 51,
     "metadata": {},
     "output_type": "execute_result"
    }
   ],
   "source": [
    "dTree = DecisionTreeClassifier(criterion=\"gini\", random_state=1)\n",
    "dTree.fit(X_train, y_train) "
   ]
  },
  {
   "cell_type": "markdown",
   "id": "increasing-diversity",
   "metadata": {
    "id": "increasing-diversity"
   },
   "source": [
    "#### Checking model performance on training set"
   ]
  },
  {
   "cell_type": "code",
   "execution_count": 52,
   "id": "irish-noise",
   "metadata": {
    "id": "irish-noise"
   },
   "outputs": [
    {
     "data": {
      "image/png": "[encoded data removed]",
      "text/plain": [
       "<Figure size 432x288 with 2 Axes>"
      ]
     },
     "metadata": {
      "needs_background": "light"
     },
     "output_type": "display_data"
    }
   ],
   "source": [
    "confusion_matrix_sklearn(dTree,X_train,y_train) "
   ]
  },
  {
   "cell_type": "code",
   "execution_count": 53,
   "id": "multiple-union",
   "metadata": {
    "id": "multiple-union"
   },
   "outputs": [
    {
     "data": {
      "text/html": [
       "<div>\n",
       "<style scoped>\n",
       "    .dataframe tbody tr th:only-of-type {\n",
       "        vertical-align: middle;\n",
       "    }\n",
       "\n",
       "    .dataframe tbody tr th {\n",
       "        vertical-align: top;\n",
       "    }\n",
       "\n",
       "    .dataframe thead th {\n",
       "        text-align: right;\n",
       "    }\n",
       "</style>\n",
       "<table border=\"1\" class=\"dataframe\">\n",
       "  <thead>\n",
       "    <tr style=\"text-align: right;\">\n",
       "      <th></th>\n",
       "      <th>Accuracy</th>\n",
       "      <th>Recall</th>\n",
       "      <th>Precision</th>\n",
       "      <th>F1</th>\n",
       "    </tr>\n",
       "  </thead>\n",
       "  <tbody>\n",
       "    <tr>\n",
       "      <th>0</th>\n",
       "      <td>1.0</td>\n",
       "      <td>1.0</td>\n",
       "      <td>1.0</td>\n",
       "      <td>1.0</td>\n",
       "    </tr>\n",
       "  </tbody>\n",
       "</table>\n",
       "</div>"
      ],
      "text/plain": [
       "   Accuracy  Recall  Precision   F1\n",
       "0       1.0     1.0        1.0  1.0"
      ]
     },
     "execution_count": 53,
     "metadata": {},
     "output_type": "execute_result"
    }
   ],
   "source": [
    "decision_tree_perf_train = model_performance_classification_sklearn(dTree,X_train,y_train) \n",
    "decision_tree_perf_train"
   ]
  },
  {
   "cell_type": "markdown",
   "id": "material-reduction",
   "metadata": {
    "id": "material-reduction"
   },
   "source": [
    "#### Checking model performance on test set"
   ]
  },
  {
   "cell_type": "code",
   "execution_count": 54,
   "id": "touched-survey",
   "metadata": {
    "id": "touched-survey"
   },
   "outputs": [
    {
     "data": {
      "image/png": "[encoded data removed]",
      "text/plain": [
       "<Figure size 432x288 with 2 Axes>"
      ]
     },
     "metadata": {
      "needs_background": "light"
     },
     "output_type": "display_data"
    }
   ],
   "source": [
    "confusion_matrix_sklearn(dTree,X_test,y_test) "
   ]
  },
  {
   "cell_type": "code",
   "execution_count": 55,
   "id": "perceived-memorial",
   "metadata": {
    "id": "perceived-memorial"
   },
   "outputs": [
    {
     "data": {
      "text/html": [
       "<div>\n",
       "<style scoped>\n",
       "    .dataframe tbody tr th:only-of-type {\n",
       "        vertical-align: middle;\n",
       "    }\n",
       "\n",
       "    .dataframe tbody tr th {\n",
       "        vertical-align: top;\n",
       "    }\n",
       "\n",
       "    .dataframe thead th {\n",
       "        text-align: right;\n",
       "    }\n",
       "</style>\n",
       "<table border=\"1\" class=\"dataframe\">\n",
       "  <thead>\n",
       "    <tr style=\"text-align: right;\">\n",
       "      <th></th>\n",
       "      <th>Accuracy</th>\n",
       "      <th>Recall</th>\n",
       "      <th>Precision</th>\n",
       "      <th>F1</th>\n",
       "    </tr>\n",
       "  </thead>\n",
       "  <tbody>\n",
       "    <tr>\n",
       "      <th>0</th>\n",
       "      <td>0.664835</td>\n",
       "      <td>0.742801</td>\n",
       "      <td>0.752232</td>\n",
       "      <td>0.747487</td>\n",
       "    </tr>\n",
       "  </tbody>\n",
       "</table>\n",
       "</div>"
      ],
      "text/plain": [
       "   Accuracy    Recall  Precision        F1\n",
       "0  0.664835  0.742801   0.752232  0.747487"
      ]
     },
     "execution_count": 55,
     "metadata": {},
     "output_type": "execute_result"
    }
   ],
   "source": [
    "decision_tree_perf_test = model_performance_classification_sklearn(dTree,X_test,y_test) \n",
    "decision_tree_perf_test"
   ]
  },
  {
   "cell_type": "markdown",
   "id": "e290ab1f",
   "metadata": {},
   "source": [
    "* The model is overfitting the training data.\n",
    "* Let's try hyperparameter tuning and see if the model performance improves."
   ]
  },
  {
   "cell_type": "markdown",
   "id": "protected-romantic",
   "metadata": {
    "id": "protected-romantic"
   },
   "source": [
    "### Hyperparameter Tuning - Decision Tree"
   ]
  },
  {
   "cell_type": "code",
   "execution_count": 56,
   "id": "tested-building",
   "metadata": {
    "id": "tested-building"
   },
   "outputs": [
    {
     "data": {
      "text/plain": [
       "DecisionTreeClassifier(class_weight='balanced', max_depth=5, max_leaf_nodes=2,\n",
       "                       min_impurity_decrease=0.0001, min_samples_leaf=3,\n",
       "                       random_state=1)"
      ]
     },
     "execution_count": 56,
     "metadata": {},
     "output_type": "execute_result"
    }
   ],
   "source": [
    "# Choose the type of classifier.\n",
    "dtree_estimator = DecisionTreeClassifier(class_weight=\"balanced\", random_state=1)\n",
    "\n",
    "# Grid of parameters to choose from\n",
    "parameters = {\n",
    "    \"max_depth\": np.arange(5, 16, 5),\n",
    "    \"min_samples_leaf\": [3, 5, 7],\n",
    "    \"max_leaf_nodes\": [2, 5],\n",
    "    \"min_impurity_decrease\": [0.0001, 0.001],\n",
    "}\n",
    "\n",
    "# Type of scoring used to compare parameter combinations\n",
    "scorer = metrics.make_scorer(metrics.f1_score)\n",
    "\n",
    "# Run the grid search\n",
    "grid_obj = GridSearchCV(dtree_estimator, parameters, scoring=scorer, cv=5,n_jobs = -1)\n",
    "\n",
    "grid_obj = grid_obj.fit(X_train, y_train) \n",
    "\n",
    "# Set the clf to the best combination of parameters\n",
    "dtree_estimator = grid_obj.best_estimator_\n",
    "\n",
    "# Fit the best algorithm to the data.\n",
    "dtree_estimator.fit(X_train, y_train)"
   ]
  },
  {
   "cell_type": "code",
   "execution_count": 57,
   "id": "affected-thailand",
   "metadata": {
    "id": "affected-thailand"
   },
   "outputs": [
    {
     "data": {
      "image/png": "[encoded data removed]",
      "text/plain": [
       "<Figure size 432x288 with 2 Axes>"
      ]
     },
     "metadata": {
      "needs_background": "light"
     },
     "output_type": "display_data"
    }
   ],
   "source": [
    "confusion_matrix_sklearn(dtree_estimator, X_train, y_train) "
   ]
  },
  {
   "cell_type": "code",
   "execution_count": 58,
   "id": "enormous-hunger",
   "metadata": {
    "id": "enormous-hunger"
   },
   "outputs": [
    {
     "data": {
      "text/html": [
       "<div>\n",
       "<style scoped>\n",
       "    .dataframe tbody tr th:only-of-type {\n",
       "        vertical-align: middle;\n",
       "    }\n",
       "\n",
       "    .dataframe tbody tr th {\n",
       "        vertical-align: top;\n",
       "    }\n",
       "\n",
       "    .dataframe thead th {\n",
       "        text-align: right;\n",
       "    }\n",
       "</style>\n",
       "<table border=\"1\" class=\"dataframe\">\n",
       "  <thead>\n",
       "    <tr style=\"text-align: right;\">\n",
       "      <th></th>\n",
       "      <th>Accuracy</th>\n",
       "      <th>Recall</th>\n",
       "      <th>Precision</th>\n",
       "      <th>F1</th>\n",
       "    </tr>\n",
       "  </thead>\n",
       "  <tbody>\n",
       "    <tr>\n",
       "      <th>0</th>\n",
       "      <td>0.712548</td>\n",
       "      <td>0.931923</td>\n",
       "      <td>0.720067</td>\n",
       "      <td>0.812411</td>\n",
       "    </tr>\n",
       "  </tbody>\n",
       "</table>\n",
       "</div>"
      ],
      "text/plain": [
       "   Accuracy    Recall  Precision        F1\n",
       "0  0.712548  0.931923   0.720067  0.812411"
      ]
     },
     "execution_count": 58,
     "metadata": {},
     "output_type": "execute_result"
    }
   ],
   "source": [
    "dtree_estimator_model_train_perf = model_performance_classification_sklearn(dtree_estimator, X_train, y_train) \n",
    "dtree_estimator_model_train_perf"
   ]
  },
  {
   "cell_type": "code",
   "execution_count": 59,
   "id": "stone-maker",
   "metadata": {
    "id": "stone-maker"
   },
   "outputs": [
    {
     "data": {
      "image/png": "[encoded data removed]",
      "text/plain": [
       "<Figure size 432x288 with 2 Axes>"
      ]
     },
     "metadata": {
      "needs_background": "light"
     },
     "output_type": "display_data"
    }
   ],
   "source": [
    "confusion_matrix_sklearn(dtree_estimator, X_test, y_test)"
   ]
  },
  {
   "cell_type": "code",
   "execution_count": 60,
   "id": "together-pittsburgh",
   "metadata": {
    "id": "together-pittsburgh"
   },
   "outputs": [
    {
     "data": {
      "text/html": [
       "<div>\n",
       "<style scoped>\n",
       "    .dataframe tbody tr th:only-of-type {\n",
       "        vertical-align: middle;\n",
       "    }\n",
       "\n",
       "    .dataframe tbody tr th {\n",
       "        vertical-align: top;\n",
       "    }\n",
       "\n",
       "    .dataframe thead th {\n",
       "        text-align: right;\n",
       "    }\n",
       "</style>\n",
       "<table border=\"1\" class=\"dataframe\">\n",
       "  <thead>\n",
       "    <tr style=\"text-align: right;\">\n",
       "      <th></th>\n",
       "      <th>Accuracy</th>\n",
       "      <th>Recall</th>\n",
       "      <th>Precision</th>\n",
       "      <th>F1</th>\n",
       "    </tr>\n",
       "  </thead>\n",
       "  <tbody>\n",
       "    <tr>\n",
       "      <th>0</th>\n",
       "      <td>0.706567</td>\n",
       "      <td>0.930852</td>\n",
       "      <td>0.715447</td>\n",
       "      <td>0.809058</td>\n",
       "    </tr>\n",
       "  </tbody>\n",
       "</table>\n",
       "</div>"
      ],
      "text/plain": [
       "   Accuracy    Recall  Precision        F1\n",
       "0  0.706567  0.930852   0.715447  0.809058"
      ]
     },
     "execution_count": 60,
     "metadata": {},
     "output_type": "execute_result"
    }
   ],
   "source": [
    "dtree_estimator_model_test_perf = model_performance_classification_sklearn(dtree_estimator, X_test, y_test)\n",
    "dtree_estimator_model_test_perf"
   ]
  },
  {
   "cell_type": "markdown",
   "id": "736600c9",
   "metadata": {},
   "source": [
    "* The overfitting has reduced but the accuracy has also decreased.\n",
    "* Let's try some other models."
   ]
  },
  {
   "cell_type": "markdown",
   "id": "aging-corruption",
   "metadata": {
    "id": "aging-corruption"
   },
   "source": [
    "### Bagging Classifier"
   ]
  },
  {
   "cell_type": "code",
   "execution_count": 61,
   "id": "postal-angle",
   "metadata": {
    "id": "postal-angle"
   },
   "outputs": [
    {
     "data": {
      "text/plain": [
       "BaggingClassifier(random_state=1)"
      ]
     },
     "execution_count": 61,
     "metadata": {},
     "output_type": "execute_result"
    }
   ],
   "source": [
    "bagging_estimator= BaggingClassifier(random_state=1) \n",
    "bagging_estimator.fit(X_train,y_train) "
   ]
  },
  {
   "cell_type": "markdown",
   "id": "suffering-growing",
   "metadata": {
    "id": "suffering-growing"
   },
   "source": [
    "#### Checking model performance on training set"
   ]
  },
  {
   "cell_type": "code",
   "execution_count": 62,
   "id": "extraordinary-festival",
   "metadata": {
    "id": "extraordinary-festival"
   },
   "outputs": [
    {
     "data": {
      "image/png": "[encoded data removed]",
      "text/plain": [
       "<Figure size 432x288 with 2 Axes>"
      ]
     },
     "metadata": {
      "needs_background": "light"
     },
     "output_type": "display_data"
    }
   ],
   "source": [
    "confusion_matrix_sklearn(bagging_estimator,X_train,y_train) "
   ]
  },
  {
   "cell_type": "code",
   "execution_count": 63,
   "id": "further-yemen",
   "metadata": {
    "id": "further-yemen"
   },
   "outputs": [
    {
     "data": {
      "text/html": [
       "<div>\n",
       "<style scoped>\n",
       "    .dataframe tbody tr th:only-of-type {\n",
       "        vertical-align: middle;\n",
       "    }\n",
       "\n",
       "    .dataframe tbody tr th {\n",
       "        vertical-align: top;\n",
       "    }\n",
       "\n",
       "    .dataframe thead th {\n",
       "        text-align: right;\n",
       "    }\n",
       "</style>\n",
       "<table border=\"1\" class=\"dataframe\">\n",
       "  <thead>\n",
       "    <tr style=\"text-align: right;\">\n",
       "      <th></th>\n",
       "      <th>Accuracy</th>\n",
       "      <th>Recall</th>\n",
       "      <th>Precision</th>\n",
       "      <th>F1</th>\n",
       "    </tr>\n",
       "  </thead>\n",
       "  <tbody>\n",
       "    <tr>\n",
       "      <th>0</th>\n",
       "      <td>0.985198</td>\n",
       "      <td>0.985982</td>\n",
       "      <td>0.99181</td>\n",
       "      <td>0.988887</td>\n",
       "    </tr>\n",
       "  </tbody>\n",
       "</table>\n",
       "</div>"
      ],
      "text/plain": [
       "   Accuracy    Recall  Precision        F1\n",
       "0  0.985198  0.985982    0.99181  0.988887"
      ]
     },
     "execution_count": 63,
     "metadata": {},
     "output_type": "execute_result"
    }
   ],
   "source": [
    "bagging_classifier_model_train_perf = model_performance_classification_sklearn(bagging_estimator,X_train,y_train) \n",
    "bagging_classifier_model_train_perf"
   ]
  },
  {
   "cell_type": "markdown",
   "id": "verified-obligation",
   "metadata": {
    "id": "verified-obligation"
   },
   "source": [
    "#### Checking model performance on test set"
   ]
  },
  {
   "cell_type": "code",
   "execution_count": 64,
   "id": "weird-wesley",
   "metadata": {
    "id": "weird-wesley"
   },
   "outputs": [
    {
     "data": {
      "image/png": "[encoded data removed]",
      "text/plain": [
       "<Figure size 432x288 with 2 Axes>"
      ]
     },
     "metadata": {
      "needs_background": "light"
     },
     "output_type": "display_data"
    }
   ],
   "source": [
    "confusion_matrix_sklearn(bagging_estimator,X_test,y_test) "
   ]
  },
  {
   "cell_type": "code",
   "execution_count": 65,
   "id": "handy-nature",
   "metadata": {
    "id": "handy-nature"
   },
   "outputs": [
    {
     "data": {
      "text/html": [
       "<div>\n",
       "<style scoped>\n",
       "    .dataframe tbody tr th:only-of-type {\n",
       "        vertical-align: middle;\n",
       "    }\n",
       "\n",
       "    .dataframe tbody tr th {\n",
       "        vertical-align: top;\n",
       "    }\n",
       "\n",
       "    .dataframe thead th {\n",
       "        text-align: right;\n",
       "    }\n",
       "</style>\n",
       "<table border=\"1\" class=\"dataframe\">\n",
       "  <thead>\n",
       "    <tr style=\"text-align: right;\">\n",
       "      <th></th>\n",
       "      <th>Accuracy</th>\n",
       "      <th>Recall</th>\n",
       "      <th>Precision</th>\n",
       "      <th>F1</th>\n",
       "    </tr>\n",
       "  </thead>\n",
       "  <tbody>\n",
       "    <tr>\n",
       "      <th>0</th>\n",
       "      <td>0.691523</td>\n",
       "      <td>0.764153</td>\n",
       "      <td>0.771711</td>\n",
       "      <td>0.767913</td>\n",
       "    </tr>\n",
       "  </tbody>\n",
       "</table>\n",
       "</div>"
      ],
      "text/plain": [
       "   Accuracy    Recall  Precision        F1\n",
       "0  0.691523  0.764153   0.771711  0.767913"
      ]
     },
     "execution_count": 65,
     "metadata": {},
     "output_type": "execute_result"
    }
   ],
   "source": [
    "bagging_classifier_model_test_perf = model_performance_classification_sklearn(bagging_estimator,X_test,y_test) \n",
    "bagging_classifier_model_test_perf"
   ]
  },
  {
   "cell_type": "markdown",
   "id": "883c5acd",
   "metadata": {},
   "source": [
    "* The model is overfitting the training data.\n",
    "* Let's try hyperparameter tuning and see if the model performance improves."
   ]
  },
  {
   "cell_type": "markdown",
   "id": "increased-civilian",
   "metadata": {
    "id": "increased-civilian"
   },
   "source": [
    "### Hyperparameter Tuning - Bagging Classifier"
   ]
  },
  {
   "cell_type": "code",
   "execution_count": 66,
   "id": "coastal-jefferson",
   "metadata": {
    "id": "coastal-jefferson"
   },
   "outputs": [
    {
     "data": {
      "text/plain": [
       "BaggingClassifier(max_features=0.7, max_samples=0.7, n_estimators=100,\n",
       "                  random_state=1)"
      ]
     },
     "execution_count": 66,
     "metadata": {},
     "output_type": "execute_result"
    }
   ],
   "source": [
    "# Choose the type of classifier.\n",
    "bagging_estimator_tuned = BaggingClassifier(random_state=1)\n",
    "\n",
    "# Grid of parameters to choose from\n",
    "parameters = {\n",
    "    \"max_samples\": [0.7, 0.9],\n",
    "    \"max_features\": [0.7, 0.9],\n",
    "    \"n_estimators\": np.arange(90, 111, 10),\n",
    "}\n",
    "\n",
    "# Type of scoring used to compare parameter combinations\n",
    "acc_scorer = metrics.make_scorer(metrics.f1_score)\n",
    "\n",
    "# Run the grid search\n",
    "grid_obj = GridSearchCV(bagging_estimator_tuned, parameters, scoring=acc_scorer, cv=5) \n",
    "grid_obj = grid_obj.fit(X_train, y_train) \n",
    "\n",
    "# Set the clf to the best combination of parameters\n",
    "bagging_estimator_tuned = grid_obj.best_estimator_\n",
    "\n",
    "# Fit the best algorithm to the data.\n",
    "bagging_estimator_tuned.fit(X_train, y_train)"
   ]
  },
  {
   "cell_type": "markdown",
   "id": "protecting-douglas",
   "metadata": {
    "id": "protecting-douglas"
   },
   "source": [
    "#### Checking model performance on training set"
   ]
  },
  {
   "cell_type": "code",
   "execution_count": 67,
   "id": "nominated-overhead",
   "metadata": {
    "id": "nominated-overhead"
   },
   "outputs": [
    {
     "data": {
      "image/png": "[encoded data removed]",
      "text/plain": [
       "<Figure size 432x288 with 2 Axes>"
      ]
     },
     "metadata": {
      "needs_background": "light"
     },
     "output_type": "display_data"
    }
   ],
   "source": [
    "confusion_matrix_sklearn(bagging_estimator_tuned,X_train,y_train) "
   ]
  },
  {
   "cell_type": "code",
   "execution_count": 68,
   "id": "fundamental-newport",
   "metadata": {
    "id": "fundamental-newport"
   },
   "outputs": [
    {
     "data": {
      "text/html": [
       "<div>\n",
       "<style scoped>\n",
       "    .dataframe tbody tr th:only-of-type {\n",
       "        vertical-align: middle;\n",
       "    }\n",
       "\n",
       "    .dataframe tbody tr th {\n",
       "        vertical-align: top;\n",
       "    }\n",
       "\n",
       "    .dataframe thead th {\n",
       "        text-align: right;\n",
       "    }\n",
       "</style>\n",
       "<table border=\"1\" class=\"dataframe\">\n",
       "  <thead>\n",
       "    <tr style=\"text-align: right;\">\n",
       "      <th></th>\n",
       "      <th>Accuracy</th>\n",
       "      <th>Recall</th>\n",
       "      <th>Precision</th>\n",
       "      <th>F1</th>\n",
       "    </tr>\n",
       "  </thead>\n",
       "  <tbody>\n",
       "    <tr>\n",
       "      <th>0</th>\n",
       "      <td>0.996187</td>\n",
       "      <td>0.999916</td>\n",
       "      <td>0.994407</td>\n",
       "      <td>0.997154</td>\n",
       "    </tr>\n",
       "  </tbody>\n",
       "</table>\n",
       "</div>"
      ],
      "text/plain": [
       "   Accuracy    Recall  Precision        F1\n",
       "0  0.996187  0.999916   0.994407  0.997154"
      ]
     },
     "execution_count": 68,
     "metadata": {},
     "output_type": "execute_result"
    }
   ],
   "source": [
    "bagging_estimator_tuned_model_train_perf = model_performance_classification_sklearn(bagging_estimator_tuned,X_train,y_train) \n",
    "bagging_estimator_tuned_model_train_perf"
   ]
  },
  {
   "cell_type": "markdown",
   "id": "elegant-bookmark",
   "metadata": {
    "id": "elegant-bookmark"
   },
   "source": [
    "#### Checking model performance on test set"
   ]
  },
  {
   "cell_type": "code",
   "execution_count": 69,
   "id": "later-setup",
   "metadata": {
    "id": "later-setup"
   },
   "outputs": [
    {
     "data": {
      "image/png": "[encoded data removed]",
      "text/plain": [
       "<Figure size 432x288 with 2 Axes>"
      ]
     },
     "metadata": {
      "needs_background": "light"
     },
     "output_type": "display_data"
    }
   ],
   "source": [
    "confusion_matrix_sklearn(bagging_estimator_tuned,X_test,y_test) "
   ]
  },
  {
   "cell_type": "code",
   "execution_count": 70,
   "id": "discrete-immigration",
   "metadata": {
    "id": "discrete-immigration"
   },
   "outputs": [
    {
     "data": {
      "text/html": [
       "<div>\n",
       "<style scoped>\n",
       "    .dataframe tbody tr th:only-of-type {\n",
       "        vertical-align: middle;\n",
       "    }\n",
       "\n",
       "    .dataframe tbody tr th {\n",
       "        vertical-align: top;\n",
       "    }\n",
       "\n",
       "    .dataframe thead th {\n",
       "        text-align: right;\n",
       "    }\n",
       "</style>\n",
       "<table border=\"1\" class=\"dataframe\">\n",
       "  <thead>\n",
       "    <tr style=\"text-align: right;\">\n",
       "      <th></th>\n",
       "      <th>Accuracy</th>\n",
       "      <th>Recall</th>\n",
       "      <th>Precision</th>\n",
       "      <th>F1</th>\n",
       "    </tr>\n",
       "  </thead>\n",
       "  <tbody>\n",
       "    <tr>\n",
       "      <th>0</th>\n",
       "      <td>0.724228</td>\n",
       "      <td>0.895397</td>\n",
       "      <td>0.743857</td>\n",
       "      <td>0.812622</td>\n",
       "    </tr>\n",
       "  </tbody>\n",
       "</table>\n",
       "</div>"
      ],
      "text/plain": [
       "   Accuracy    Recall  Precision        F1\n",
       "0  0.724228  0.895397   0.743857  0.812622"
      ]
     },
     "execution_count": 70,
     "metadata": {},
     "output_type": "execute_result"
    }
   ],
   "source": [
    "bagging_estimator_tuned_model_test_perf = model_performance_classification_sklearn(bagging_estimator_tuned,X_test,y_test) \n",
    "bagging_estimator_tuned_model_test_perf"
   ]
  },
  {
   "cell_type": "markdown",
   "id": "619c9982",
   "metadata": {},
   "source": [
    "* The model is still over-fitting."
   ]
  },
  {
   "cell_type": "markdown",
   "id": "colonial-society",
   "metadata": {
    "id": "colonial-society"
   },
   "source": [
    "### Random Forest"
   ]
  },
  {
   "cell_type": "code",
   "execution_count": 71,
   "id": "outer-array",
   "metadata": {
    "id": "outer-array"
   },
   "outputs": [
    {
     "data": {
      "text/plain": [
       "RandomForestClassifier(class_weight='balanced', random_state=1)"
      ]
     },
     "execution_count": 71,
     "metadata": {},
     "output_type": "execute_result"
    }
   ],
   "source": [
    "# Fitting the model\n",
    "rf_estimator=RandomForestClassifier(random_state=1,class_weight = 'balanced')\n",
    "rf_estimator.fit(X_train,y_train)"
   ]
  },
  {
   "cell_type": "markdown",
   "id": "possible-vinyl",
   "metadata": {
    "id": "possible-vinyl"
   },
   "source": [
    "#### Checking model performance on training set"
   ]
  },
  {
   "cell_type": "code",
   "execution_count": 72,
   "id": "nervous-ordering",
   "metadata": {
    "id": "nervous-ordering"
   },
   "outputs": [
    {
     "data": {
      "image/png": "[encoded data removed]",
      "text/plain": [
       "<Figure size 432x288 with 2 Axes>"
      ]
     },
     "metadata": {
      "needs_background": "light"
     },
     "output_type": "display_data"
    }
   ],
   "source": [
    "confusion_matrix_sklearn(rf_estimator,X_train,y_train) "
   ]
  },
  {
   "cell_type": "code",
   "execution_count": 73,
   "id": "functioning-nigeria",
   "metadata": {
    "id": "functioning-nigeria"
   },
   "outputs": [
    {
     "data": {
      "text/html": [
       "<div>\n",
       "<style scoped>\n",
       "    .dataframe tbody tr th:only-of-type {\n",
       "        vertical-align: middle;\n",
       "    }\n",
       "\n",
       "    .dataframe tbody tr th {\n",
       "        vertical-align: top;\n",
       "    }\n",
       "\n",
       "    .dataframe thead th {\n",
       "        text-align: right;\n",
       "    }\n",
       "</style>\n",
       "<table border=\"1\" class=\"dataframe\">\n",
       "  <thead>\n",
       "    <tr style=\"text-align: right;\">\n",
       "      <th></th>\n",
       "      <th>Accuracy</th>\n",
       "      <th>Recall</th>\n",
       "      <th>Precision</th>\n",
       "      <th>F1</th>\n",
       "    </tr>\n",
       "  </thead>\n",
       "  <tbody>\n",
       "    <tr>\n",
       "      <th>0</th>\n",
       "      <td>1.0</td>\n",
       "      <td>1.0</td>\n",
       "      <td>1.0</td>\n",
       "      <td>1.0</td>\n",
       "    </tr>\n",
       "  </tbody>\n",
       "</table>\n",
       "</div>"
      ],
      "text/plain": [
       "   Accuracy  Recall  Precision   F1\n",
       "0       1.0     1.0        1.0  1.0"
      ]
     },
     "execution_count": 73,
     "metadata": {},
     "output_type": "execute_result"
    }
   ],
   "source": [
    "# Calculating different metrics\n",
    "rf_estimator_model_train_perf = model_performance_classification_sklearn(rf_estimator,X_train,y_train)\n",
    "rf_estimator_model_train_perf"
   ]
  },
  {
   "cell_type": "markdown",
   "id": "theoretical-poverty",
   "metadata": {
    "id": "theoretical-poverty"
   },
   "source": [
    "#### Checking model performance on test set"
   ]
  },
  {
   "cell_type": "code",
   "execution_count": 74,
   "id": "meaning-crash",
   "metadata": {
    "id": "meaning-crash"
   },
   "outputs": [
    {
     "data": {
      "image/png": "[encoded data removed]",
      "text/plain": [
       "<Figure size 432x288 with 2 Axes>"
      ]
     },
     "metadata": {
      "needs_background": "light"
     },
     "output_type": "display_data"
    }
   ],
   "source": [
    "confusion_matrix_sklearn(rf_estimator,X_test,y_test) "
   ]
  },
  {
   "cell_type": "code",
   "execution_count": 75,
   "id": "pending-light",
   "metadata": {
    "id": "pending-light"
   },
   "outputs": [
    {
     "data": {
      "text/html": [
       "<div>\n",
       "<style scoped>\n",
       "    .dataframe tbody tr th:only-of-type {\n",
       "        vertical-align: middle;\n",
       "    }\n",
       "\n",
       "    .dataframe tbody tr th {\n",
       "        vertical-align: top;\n",
       "    }\n",
       "\n",
       "    .dataframe thead th {\n",
       "        text-align: right;\n",
       "    }\n",
       "</style>\n",
       "<table border=\"1\" class=\"dataframe\">\n",
       "  <thead>\n",
       "    <tr style=\"text-align: right;\">\n",
       "      <th></th>\n",
       "      <th>Accuracy</th>\n",
       "      <th>Recall</th>\n",
       "      <th>Precision</th>\n",
       "      <th>F1</th>\n",
       "    </tr>\n",
       "  </thead>\n",
       "  <tbody>\n",
       "    <tr>\n",
       "      <th>0</th>\n",
       "      <td>0.727368</td>\n",
       "      <td>0.847209</td>\n",
       "      <td>0.768343</td>\n",
       "      <td>0.805851</td>\n",
       "    </tr>\n",
       "  </tbody>\n",
       "</table>\n",
       "</div>"
      ],
      "text/plain": [
       "   Accuracy    Recall  Precision        F1\n",
       "0  0.727368  0.847209   0.768343  0.805851"
      ]
     },
     "execution_count": 75,
     "metadata": {},
     "output_type": "execute_result"
    }
   ],
   "source": [
    "rf_estimator_model_test_perf = model_performance_classification_sklearn(rf_estimator,X_test,y_test) \n",
    "rf_estimator_model_test_perf"
   ]
  },
  {
   "cell_type": "markdown",
   "id": "9b8c268e",
   "metadata": {},
   "source": [
    "* Random forest is overfitting the training data.\n",
    "* Let's try hyperparameter tuning."
   ]
  },
  {
   "cell_type": "markdown",
   "id": "beneficial-bosnia",
   "metadata": {
    "id": "beneficial-bosnia"
   },
   "source": [
    "### Hyperparameter Tuning - Random Forest"
   ]
  },
  {
   "cell_type": "code",
   "execution_count": 76,
   "id": "interstate-jonathan",
   "metadata": {
    "id": "interstate-jonathan"
   },
   "outputs": [
    {
     "data": {
      "text/plain": [
       "RandomForestClassifier(max_depth=10, max_features='sqrt', min_samples_split=7,\n",
       "                       n_estimators=20, oob_score=True, random_state=1)"
      ]
     },
     "execution_count": 76,
     "metadata": {},
     "output_type": "execute_result"
    }
   ],
   "source": [
    "# Choose the type of classifier.\n",
    "rf_tuned = RandomForestClassifier(random_state=1, oob_score=True, bootstrap=True)\n",
    "\n",
    "parameters = {\n",
    "    \"max_depth\": list(np.arange(5, 15, 5)),\n",
    "    \"max_features\": [\"sqrt\", \"log2\"],\n",
    "    \"min_samples_split\": [5, 7],\n",
    "    \"n_estimators\": np.arange(15, 26, 5),\n",
    "}\n",
    "\n",
    "# Type of scoring used to compare parameter combinations\n",
    "acc_scorer = metrics.make_scorer(metrics.f1_score)\n",
    "\n",
    "# Run the grid search\n",
    "grid_obj = GridSearchCV(rf_tuned, parameters, scoring=acc_scorer, cv=5,n_jobs = -1)\n",
    "grid_obj = grid_obj.fit(X_train, y_train) \n",
    "\n",
    "# Set the clf to the best combination of parameters\n",
    "rf_tuned = grid_obj.best_estimator_\n",
    "\n",
    "# Fit the best algorithm to the data.\n",
    "rf_tuned.fit(X_train, y_train)"
   ]
  },
  {
   "cell_type": "markdown",
   "id": "joint-appendix",
   "metadata": {
    "id": "joint-appendix"
   },
   "source": [
    "#### Checking model performance on training set"
   ]
  },
  {
   "cell_type": "code",
   "execution_count": 77,
   "id": "broadband-issue",
   "metadata": {
    "id": "broadband-issue"
   },
   "outputs": [
    {
     "data": {
      "image/png": "[encoded data removed]",
      "text/plain": [
       "<Figure size 432x288 with 2 Axes>"
      ]
     },
     "metadata": {
      "needs_background": "light"
     },
     "output_type": "display_data"
    }
   ],
   "source": [
    "confusion_matrix_sklearn(rf_tuned,X_train,y_train) "
   ]
  },
  {
   "cell_type": "code",
   "execution_count": 78,
   "id": "minus-publication",
   "metadata": {
    "id": "minus-publication"
   },
   "outputs": [
    {
     "data": {
      "text/html": [
       "<div>\n",
       "<style scoped>\n",
       "    .dataframe tbody tr th:only-of-type {\n",
       "        vertical-align: middle;\n",
       "    }\n",
       "\n",
       "    .dataframe tbody tr th {\n",
       "        vertical-align: top;\n",
       "    }\n",
       "\n",
       "    .dataframe thead th {\n",
       "        text-align: right;\n",
       "    }\n",
       "</style>\n",
       "<table border=\"1\" class=\"dataframe\">\n",
       "  <thead>\n",
       "    <tr style=\"text-align: right;\">\n",
       "      <th></th>\n",
       "      <th>Accuracy</th>\n",
       "      <th>Recall</th>\n",
       "      <th>Precision</th>\n",
       "      <th>F1</th>\n",
       "    </tr>\n",
       "  </thead>\n",
       "  <tbody>\n",
       "    <tr>\n",
       "      <th>0</th>\n",
       "      <td>0.769119</td>\n",
       "      <td>0.91866</td>\n",
       "      <td>0.776556</td>\n",
       "      <td>0.841652</td>\n",
       "    </tr>\n",
       "  </tbody>\n",
       "</table>\n",
       "</div>"
      ],
      "text/plain": [
       "   Accuracy   Recall  Precision        F1\n",
       "0  0.769119  0.91866   0.776556  0.841652"
      ]
     },
     "execution_count": 78,
     "metadata": {},
     "output_type": "execute_result"
    }
   ],
   "source": [
    "rf_tuned_model_train_perf = model_performance_classification_sklearn(rf_tuned,X_train,y_train) \n",
    "rf_tuned_model_train_perf"
   ]
  },
  {
   "cell_type": "markdown",
   "id": "joined-newman",
   "metadata": {
    "id": "joined-newman"
   },
   "source": [
    "#### Checking model performance on test set"
   ]
  },
  {
   "cell_type": "code",
   "execution_count": 79,
   "id": "higher-memphis",
   "metadata": {
    "id": "higher-memphis"
   },
   "outputs": [
    {
     "data": {
      "image/png": "[encoded data removed]",
      "text/plain": [
       "<Figure size 432x288 with 2 Axes>"
      ]
     },
     "metadata": {
      "needs_background": "light"
     },
     "output_type": "display_data"
    }
   ],
   "source": [
    "confusion_matrix_sklearn(rf_tuned,X_test,y_test) "
   ]
  },
  {
   "cell_type": "code",
   "execution_count": 80,
   "id": "processed-capital",
   "metadata": {
    "id": "processed-capital"
   },
   "outputs": [
    {
     "data": {
      "text/html": [
       "<div>\n",
       "<style scoped>\n",
       "    .dataframe tbody tr th:only-of-type {\n",
       "        vertical-align: middle;\n",
       "    }\n",
       "\n",
       "    .dataframe tbody tr th {\n",
       "        vertical-align: top;\n",
       "    }\n",
       "\n",
       "    .dataframe thead th {\n",
       "        text-align: right;\n",
       "    }\n",
       "</style>\n",
       "<table border=\"1\" class=\"dataframe\">\n",
       "  <thead>\n",
       "    <tr style=\"text-align: right;\">\n",
       "      <th></th>\n",
       "      <th>Accuracy</th>\n",
       "      <th>Recall</th>\n",
       "      <th>Precision</th>\n",
       "      <th>F1</th>\n",
       "    </tr>\n",
       "  </thead>\n",
       "  <tbody>\n",
       "    <tr>\n",
       "      <th>0</th>\n",
       "      <td>0.738095</td>\n",
       "      <td>0.898923</td>\n",
       "      <td>0.755391</td>\n",
       "      <td>0.82093</td>\n",
       "    </tr>\n",
       "  </tbody>\n",
       "</table>\n",
       "</div>"
      ],
      "text/plain": [
       "   Accuracy    Recall  Precision       F1\n",
       "0  0.738095  0.898923   0.755391  0.82093"
      ]
     },
     "execution_count": 80,
     "metadata": {},
     "output_type": "execute_result"
    }
   ],
   "source": [
    "rf_tuned_model_test_perf = model_performance_classification_sklearn(rf_tuned,X_test,y_test) \n",
    "rf_tuned_model_test_perf"
   ]
  },
  {
   "cell_type": "markdown",
   "id": "eb8e613c",
   "metadata": {},
   "source": [
    "* The overfitting has reduced significantly and the model performance has improved."
   ]
  },
  {
   "cell_type": "markdown",
   "id": "divine-legend",
   "metadata": {
    "id": "divine-legend"
   },
   "source": [
    "### AdaBoost Classifier"
   ]
  },
  {
   "cell_type": "code",
   "execution_count": 81,
   "id": "written-chicken",
   "metadata": {
    "id": "written-chicken"
   },
   "outputs": [
    {
     "data": {
      "text/plain": [
       "AdaBoostClassifier(random_state=1)"
      ]
     },
     "execution_count": 81,
     "metadata": {},
     "output_type": "execute_result"
    }
   ],
   "source": [
    "abc = AdaBoostClassifier(random_state=1)\n",
    "abc.fit(X_train,y_train) "
   ]
  },
  {
   "cell_type": "markdown",
   "id": "grand-popularity",
   "metadata": {
    "id": "grand-popularity"
   },
   "source": [
    "#### Checking model performance on training set"
   ]
  },
  {
   "cell_type": "code",
   "execution_count": 82,
   "id": "fatty-primary",
   "metadata": {
    "id": "fatty-primary"
   },
   "outputs": [
    {
     "data": {
      "image/png": "[encoded data removed]",
      "text/plain": [
       "<Figure size 432x288 with 2 Axes>"
      ]
     },
     "metadata": {
      "needs_background": "light"
     },
     "output_type": "display_data"
    }
   ],
   "source": [
    "confusion_matrix_sklearn(abc,X_train,y_train)"
   ]
  },
  {
   "cell_type": "code",
   "execution_count": 83,
   "id": "forty-blame",
   "metadata": {
    "id": "forty-blame"
   },
   "outputs": [
    {
     "data": {
      "text/html": [
       "<div>\n",
       "<style scoped>\n",
       "    .dataframe tbody tr th:only-of-type {\n",
       "        vertical-align: middle;\n",
       "    }\n",
       "\n",
       "    .dataframe tbody tr th {\n",
       "        vertical-align: top;\n",
       "    }\n",
       "\n",
       "    .dataframe thead th {\n",
       "        text-align: right;\n",
       "    }\n",
       "</style>\n",
       "<table border=\"1\" class=\"dataframe\">\n",
       "  <thead>\n",
       "    <tr style=\"text-align: right;\">\n",
       "      <th></th>\n",
       "      <th>Accuracy</th>\n",
       "      <th>Recall</th>\n",
       "      <th>Precision</th>\n",
       "      <th>F1</th>\n",
       "    </tr>\n",
       "  </thead>\n",
       "  <tbody>\n",
       "    <tr>\n",
       "      <th>0</th>\n",
       "      <td>0.738226</td>\n",
       "      <td>0.887182</td>\n",
       "      <td>0.760688</td>\n",
       "      <td>0.81908</td>\n",
       "    </tr>\n",
       "  </tbody>\n",
       "</table>\n",
       "</div>"
      ],
      "text/plain": [
       "   Accuracy    Recall  Precision       F1\n",
       "0  0.738226  0.887182   0.760688  0.81908"
      ]
     },
     "execution_count": 83,
     "metadata": {},
     "output_type": "execute_result"
    }
   ],
   "source": [
    "abc_model_train_perf = model_performance_classification_sklearn(abc,X_train,y_train)\n",
    "abc_model_train_perf"
   ]
  },
  {
   "cell_type": "markdown",
   "id": "french-breed",
   "metadata": {
    "id": "french-breed"
   },
   "source": [
    "#### Checking model performance on test set"
   ]
  },
  {
   "cell_type": "code",
   "execution_count": 84,
   "id": "enormous-musical",
   "metadata": {
    "id": "enormous-musical"
   },
   "outputs": [
    {
     "data": {
      "image/png": "[encoded data removed]",
      "text/plain": [
       "<Figure size 432x288 with 2 Axes>"
      ]
     },
     "metadata": {
      "needs_background": "light"
     },
     "output_type": "display_data"
    }
   ],
   "source": [
    "confusion_matrix_sklearn(abc,X_test,y_test)  "
   ]
  },
  {
   "cell_type": "code",
   "execution_count": 85,
   "id": "detailed-promise",
   "metadata": {
    "id": "detailed-promise"
   },
   "outputs": [
    {
     "data": {
      "text/html": [
       "<div>\n",
       "<style scoped>\n",
       "    .dataframe tbody tr th:only-of-type {\n",
       "        vertical-align: middle;\n",
       "    }\n",
       "\n",
       "    .dataframe tbody tr th {\n",
       "        vertical-align: top;\n",
       "    }\n",
       "\n",
       "    .dataframe thead th {\n",
       "        text-align: right;\n",
       "    }\n",
       "</style>\n",
       "<table border=\"1\" class=\"dataframe\">\n",
       "  <thead>\n",
       "    <tr style=\"text-align: right;\">\n",
       "      <th></th>\n",
       "      <th>Accuracy</th>\n",
       "      <th>Recall</th>\n",
       "      <th>Precision</th>\n",
       "      <th>F1</th>\n",
       "    </tr>\n",
       "  </thead>\n",
       "  <tbody>\n",
       "    <tr>\n",
       "      <th>0</th>\n",
       "      <td>0.734301</td>\n",
       "      <td>0.885015</td>\n",
       "      <td>0.757799</td>\n",
       "      <td>0.816481</td>\n",
       "    </tr>\n",
       "  </tbody>\n",
       "</table>\n",
       "</div>"
      ],
      "text/plain": [
       "   Accuracy    Recall  Precision        F1\n",
       "0  0.734301  0.885015   0.757799  0.816481"
      ]
     },
     "execution_count": 85,
     "metadata": {},
     "output_type": "execute_result"
    }
   ],
   "source": [
    "abc_model_test_perf = model_performance_classification_sklearn(abc,X_test,y_test)\n",
    "abc_model_test_perf"
   ]
  },
  {
   "cell_type": "markdown",
   "id": "25635a34",
   "metadata": {},
   "source": [
    "* No over fitting seen. The model generalises well."
   ]
  },
  {
   "cell_type": "markdown",
   "id": "increased-sharing",
   "metadata": {
    "id": "increased-sharing"
   },
   "source": [
    "### Hyperparameter Tuning - AdaBoost Classifier"
   ]
  },
  {
   "cell_type": "code",
   "execution_count": 86,
   "id": "overall-grounds",
   "metadata": {
    "id": "overall-grounds"
   },
   "outputs": [
    {
     "data": {
      "text/plain": [
       "AdaBoostClassifier(base_estimator=DecisionTreeClassifier(class_weight='balanced',\n",
       "                                                         max_depth=1,\n",
       "                                                         random_state=1),\n",
       "                   learning_rate=0.1, n_estimators=100, random_state=1)"
      ]
     },
     "execution_count": 86,
     "metadata": {},
     "output_type": "execute_result"
    }
   ],
   "source": [
    "# Choose the type of classifier.\n",
    "abc_tuned = AdaBoostClassifier(random_state=1)\n",
    "\n",
    "# Grid of parameters to choose from\n",
    "parameters = {\n",
    "    # Let's try different max_depth for base_estimator\n",
    "    \"base_estimator\": [\n",
    "        DecisionTreeClassifier(max_depth=1, class_weight=\"balanced\", random_state=1),\n",
    "        DecisionTreeClassifier(max_depth=2, class_weight=\"balanced\", random_state=1),\n",
    "    ],\n",
    "    \"n_estimators\": np.arange(80, 101, 10),\n",
    "    \"learning_rate\": np.arange(0.1, 0.4, 0.1),\n",
    "}\n",
    "\n",
    "# Type of scoring used to compare parameter  combinations\n",
    "acc_scorer = metrics.make_scorer(metrics.f1_score)\n",
    "\n",
    "# Run the grid search\n",
    "grid_obj = GridSearchCV(abc_tuned, parameters, scoring=acc_scorer, cv=5)\n",
    "grid_obj = grid_obj.fit(X_train, y_train) \n",
    "\n",
    "# Set the clf to the best combination of parameters\n",
    "abc_tuned = grid_obj.best_estimator_\n",
    "\n",
    "# Fit the best algorithm to the data.\n",
    "abc_tuned.fit(X_train, y_train)"
   ]
  },
  {
   "cell_type": "markdown",
   "id": "adolescent-carroll",
   "metadata": {
    "id": "adolescent-carroll"
   },
   "source": [
    "#### Checking model performance on training set"
   ]
  },
  {
   "cell_type": "code",
   "execution_count": 87,
   "id": "excessive-drilling",
   "metadata": {
    "id": "excessive-drilling"
   },
   "outputs": [
    {
     "data": {
      "image/png": "[encoded data removed]",
      "text/plain": [
       "<Figure size 432x288 with 2 Axes>"
      ]
     },
     "metadata": {
      "needs_background": "light"
     },
     "output_type": "display_data"
    }
   ],
   "source": [
    "confusion_matrix_sklearn(abc_tuned,X_train,y_train) "
   ]
  },
  {
   "cell_type": "code",
   "execution_count": 88,
   "id": "broadband-dealer",
   "metadata": {
    "id": "broadband-dealer"
   },
   "outputs": [
    {
     "data": {
      "text/html": [
       "<div>\n",
       "<style scoped>\n",
       "    .dataframe tbody tr th:only-of-type {\n",
       "        vertical-align: middle;\n",
       "    }\n",
       "\n",
       "    .dataframe tbody tr th {\n",
       "        vertical-align: top;\n",
       "    }\n",
       "\n",
       "    .dataframe thead th {\n",
       "        text-align: right;\n",
       "    }\n",
       "</style>\n",
       "<table border=\"1\" class=\"dataframe\">\n",
       "  <thead>\n",
       "    <tr style=\"text-align: right;\">\n",
       "      <th></th>\n",
       "      <th>Accuracy</th>\n",
       "      <th>Recall</th>\n",
       "      <th>Precision</th>\n",
       "      <th>F1</th>\n",
       "    </tr>\n",
       "  </thead>\n",
       "  <tbody>\n",
       "    <tr>\n",
       "      <th>0</th>\n",
       "      <td>0.718995</td>\n",
       "      <td>0.781247</td>\n",
       "      <td>0.794587</td>\n",
       "      <td>0.787861</td>\n",
       "    </tr>\n",
       "  </tbody>\n",
       "</table>\n",
       "</div>"
      ],
      "text/plain": [
       "   Accuracy    Recall  Precision        F1\n",
       "0  0.718995  0.781247   0.794587  0.787861"
      ]
     },
     "execution_count": 88,
     "metadata": {},
     "output_type": "execute_result"
    }
   ],
   "source": [
    "abc_tuned_model_train_perf = model_performance_classification_sklearn(abc_tuned,X_train,y_train) \n",
    "abc_tuned_model_train_perf"
   ]
  },
  {
   "cell_type": "markdown",
   "id": "fitting-cameroon",
   "metadata": {
    "id": "fitting-cameroon"
   },
   "source": [
    "#### Checking model performance on test set"
   ]
  },
  {
   "cell_type": "code",
   "execution_count": 89,
   "id": "central-forest",
   "metadata": {
    "id": "central-forest"
   },
   "outputs": [
    {
     "data": {
      "image/png": "[encoded data removed]",
      "text/plain": [
       "<Figure size 432x288 with 2 Axes>"
      ]
     },
     "metadata": {
      "needs_background": "light"
     },
     "output_type": "display_data"
    }
   ],
   "source": [
    "confusion_matrix_sklearn(abc_tuned,X_test,y_test) "
   ]
  },
  {
   "cell_type": "code",
   "execution_count": 90,
   "id": "acting-edmonton",
   "metadata": {
    "id": "acting-edmonton"
   },
   "outputs": [
    {
     "data": {
      "text/html": [
       "<div>\n",
       "<style scoped>\n",
       "    .dataframe tbody tr th:only-of-type {\n",
       "        vertical-align: middle;\n",
       "    }\n",
       "\n",
       "    .dataframe tbody tr th {\n",
       "        vertical-align: top;\n",
       "    }\n",
       "\n",
       "    .dataframe thead th {\n",
       "        text-align: right;\n",
       "    }\n",
       "</style>\n",
       "<table border=\"1\" class=\"dataframe\">\n",
       "  <thead>\n",
       "    <tr style=\"text-align: right;\">\n",
       "      <th></th>\n",
       "      <th>Accuracy</th>\n",
       "      <th>Recall</th>\n",
       "      <th>Precision</th>\n",
       "      <th>F1</th>\n",
       "    </tr>\n",
       "  </thead>\n",
       "  <tbody>\n",
       "    <tr>\n",
       "      <th>0</th>\n",
       "      <td>0.71651</td>\n",
       "      <td>0.781391</td>\n",
       "      <td>0.791468</td>\n",
       "      <td>0.786397</td>\n",
       "    </tr>\n",
       "  </tbody>\n",
       "</table>\n",
       "</div>"
      ],
      "text/plain": [
       "   Accuracy    Recall  Precision        F1\n",
       "0   0.71651  0.781391   0.791468  0.786397"
      ]
     },
     "execution_count": 90,
     "metadata": {},
     "output_type": "execute_result"
    }
   ],
   "source": [
    "abc_tuned_model_test_perf = model_performance_classification_sklearn(abc_tuned,X_test,y_test) \n",
    "abc_tuned_model_test_perf"
   ]
  },
  {
   "cell_type": "markdown",
   "id": "9935d8d2",
   "metadata": {},
   "source": [
    "* No over-fitting seen in this model but F1 and recall score has reduced."
   ]
  },
  {
   "cell_type": "markdown",
   "id": "married-terminal",
   "metadata": {
    "id": "married-terminal"
   },
   "source": [
    "### Gradient Boosting Classifier"
   ]
  },
  {
   "cell_type": "code",
   "execution_count": 91,
   "id": "indian-pierre",
   "metadata": {
    "id": "indian-pierre"
   },
   "outputs": [
    {
     "data": {
      "text/plain": [
       "GradientBoostingClassifier(random_state=1)"
      ]
     },
     "execution_count": 91,
     "metadata": {},
     "output_type": "execute_result"
    }
   ],
   "source": [
    "gbc = GradientBoostingClassifier(random_state=1)\n",
    "gbc.fit(X_train,y_train) "
   ]
  },
  {
   "cell_type": "markdown",
   "id": "fiscal-language",
   "metadata": {
    "id": "fiscal-language"
   },
   "source": [
    "#### Checking model performance on training set"
   ]
  },
  {
   "cell_type": "code",
   "execution_count": 92,
   "id": "soviet-orange",
   "metadata": {
    "id": "soviet-orange"
   },
   "outputs": [
    {
     "data": {
      "image/png": "[encoded data removed]",
      "text/plain": [
       "<Figure size 432x288 with 2 Axes>"
      ]
     },
     "metadata": {
      "needs_background": "light"
     },
     "output_type": "display_data"
    }
   ],
   "source": [
    "confusion_matrix_sklearn(gbc,X_train,y_train) "
   ]
  },
  {
   "cell_type": "code",
   "execution_count": 93,
   "id": "respected-belief",
   "metadata": {
    "id": "respected-belief"
   },
   "outputs": [
    {
     "data": {
      "text/html": [
       "<div>\n",
       "<style scoped>\n",
       "    .dataframe tbody tr th:only-of-type {\n",
       "        vertical-align: middle;\n",
       "    }\n",
       "\n",
       "    .dataframe tbody tr th {\n",
       "        vertical-align: top;\n",
       "    }\n",
       "\n",
       "    .dataframe thead th {\n",
       "        text-align: right;\n",
       "    }\n",
       "</style>\n",
       "<table border=\"1\" class=\"dataframe\">\n",
       "  <thead>\n",
       "    <tr style=\"text-align: right;\">\n",
       "      <th></th>\n",
       "      <th>Accuracy</th>\n",
       "      <th>Recall</th>\n",
       "      <th>Precision</th>\n",
       "      <th>F1</th>\n",
       "    </tr>\n",
       "  </thead>\n",
       "  <tbody>\n",
       "    <tr>\n",
       "      <th>0</th>\n",
       "      <td>0.758802</td>\n",
       "      <td>0.88374</td>\n",
       "      <td>0.783042</td>\n",
       "      <td>0.830349</td>\n",
       "    </tr>\n",
       "  </tbody>\n",
       "</table>\n",
       "</div>"
      ],
      "text/plain": [
       "   Accuracy   Recall  Precision        F1\n",
       "0  0.758802  0.88374   0.783042  0.830349"
      ]
     },
     "execution_count": 93,
     "metadata": {},
     "output_type": "execute_result"
    }
   ],
   "source": [
    "gbc_model_train_perf = model_performance_classification_sklearn(gbc,X_train,y_train)\n",
    "gbc_model_train_perf"
   ]
  },
  {
   "cell_type": "markdown",
   "id": "tribal-rainbow",
   "metadata": {
    "id": "tribal-rainbow"
   },
   "source": [
    "#### Checking model performance on test set"
   ]
  },
  {
   "cell_type": "code",
   "execution_count": 94,
   "id": "uniform-procedure",
   "metadata": {
    "id": "uniform-procedure"
   },
   "outputs": [
    {
     "data": {
      "image/png": "[encoded data removed]",
      "text/plain": [
       "<Figure size 432x288 with 2 Axes>"
      ]
     },
     "metadata": {
      "needs_background": "light"
     },
     "output_type": "display_data"
    }
   ],
   "source": [
    "confusion_matrix_sklearn(gbc,X_test,y_test) "
   ]
  },
  {
   "cell_type": "code",
   "execution_count": 95,
   "id": "blind-apparel",
   "metadata": {
    "id": "blind-apparel"
   },
   "outputs": [
    {
     "data": {
      "text/html": [
       "<div>\n",
       "<style scoped>\n",
       "    .dataframe tbody tr th:only-of-type {\n",
       "        vertical-align: middle;\n",
       "    }\n",
       "\n",
       "    .dataframe tbody tr th {\n",
       "        vertical-align: top;\n",
       "    }\n",
       "\n",
       "    .dataframe thead th {\n",
       "        text-align: right;\n",
       "    }\n",
       "</style>\n",
       "<table border=\"1\" class=\"dataframe\">\n",
       "  <thead>\n",
       "    <tr style=\"text-align: right;\">\n",
       "      <th></th>\n",
       "      <th>Accuracy</th>\n",
       "      <th>Recall</th>\n",
       "      <th>Precision</th>\n",
       "      <th>F1</th>\n",
       "    </tr>\n",
       "  </thead>\n",
       "  <tbody>\n",
       "    <tr>\n",
       "      <th>0</th>\n",
       "      <td>0.744767</td>\n",
       "      <td>0.876004</td>\n",
       "      <td>0.772366</td>\n",
       "      <td>0.820927</td>\n",
       "    </tr>\n",
       "  </tbody>\n",
       "</table>\n",
       "</div>"
      ],
      "text/plain": [
       "   Accuracy    Recall  Precision        F1\n",
       "0  0.744767  0.876004   0.772366  0.820927"
      ]
     },
     "execution_count": 95,
     "metadata": {},
     "output_type": "execute_result"
    }
   ],
   "source": [
    "gbc_model_test_perf = model_performance_classification_sklearn(gbc,X_test,y_test) \n",
    "gbc_model_test_perf"
   ]
  },
  {
   "cell_type": "markdown",
   "id": "7982e842",
   "metadata": {},
   "source": [
    "* No over-fitting seen and f1 has increased than the previous model."
   ]
  },
  {
   "cell_type": "markdown",
   "id": "fuzzy-enemy",
   "metadata": {
    "id": "fuzzy-enemy"
   },
   "source": [
    "### Hyperparameter Tuning - Gradient Boosting Classifier"
   ]
  },
  {
   "cell_type": "code",
   "execution_count": 96,
   "id": "based-bishop",
   "metadata": {
    "id": "based-bishop"
   },
   "outputs": [
    {
     "data": {
      "text/plain": [
       "GradientBoostingClassifier(init=AdaBoostClassifier(random_state=1),\n",
       "                           max_features=0.8, n_estimators=200, random_state=1,\n",
       "                           subsample=1)"
      ]
     },
     "execution_count": 96,
     "metadata": {},
     "output_type": "execute_result"
    }
   ],
   "source": [
    "# Choose the type of classifier.\n",
    "gbc_tuned = GradientBoostingClassifier(\n",
    "    init=AdaBoostClassifier(random_state=1), random_state=1\n",
    ")\n",
    "\n",
    "# Grid of parameters to choose from\n",
    "parameters = {\n",
    "    \"n_estimators\": [200, 250],\n",
    "    \"subsample\": [0.9, 1],\n",
    "    \"max_features\": [0.8, 0.9],\n",
    "    \"learning_rate\": np.arange(0.1, 0.21, 0.1),\n",
    "}\n",
    "\n",
    "# Type of scoring used to compare parameter combinations\n",
    "acc_scorer = metrics.make_scorer(metrics.f1_score)\n",
    "\n",
    "# Run the grid search\n",
    "grid_obj = GridSearchCV(gbc_tuned, parameters, scoring=acc_scorer, cv=5) \n",
    "grid_obj = grid_obj.fit(X_train, y_train) \n",
    "\n",
    "# Set the clf to the best combination of parameters\n",
    "gbc_tuned = grid_obj.best_estimator_\n",
    "\n",
    "# Fit the best algorithm to the data.\n",
    "gbc_tuned.fit(X_train, y_train)"
   ]
  },
  {
   "cell_type": "markdown",
   "id": "standard-islam",
   "metadata": {
    "id": "standard-islam"
   },
   "source": [
    "#### Checking model performance on training set"
   ]
  },
  {
   "cell_type": "code",
   "execution_count": 97,
   "id": "verbal-japanese",
   "metadata": {
    "id": "verbal-japanese"
   },
   "outputs": [
    {
     "data": {
      "image/png": "[encoded data removed]",
      "text/plain": [
       "<Figure size 432x288 with 2 Axes>"
      ]
     },
     "metadata": {
      "needs_background": "light"
     },
     "output_type": "display_data"
    }
   ],
   "source": [
    "confusion_matrix_sklearn(gbc_tuned,X_train,y_train) "
   ]
  },
  {
   "cell_type": "code",
   "execution_count": 98,
   "id": "passive-accent",
   "metadata": {
    "id": "passive-accent"
   },
   "outputs": [
    {
     "data": {
      "text/html": [
       "<div>\n",
       "<style scoped>\n",
       "    .dataframe tbody tr th:only-of-type {\n",
       "        vertical-align: middle;\n",
       "    }\n",
       "\n",
       "    .dataframe tbody tr th {\n",
       "        vertical-align: top;\n",
       "    }\n",
       "\n",
       "    .dataframe thead th {\n",
       "        text-align: right;\n",
       "    }\n",
       "</style>\n",
       "<table border=\"1\" class=\"dataframe\">\n",
       "  <thead>\n",
       "    <tr style=\"text-align: right;\">\n",
       "      <th></th>\n",
       "      <th>Accuracy</th>\n",
       "      <th>Recall</th>\n",
       "      <th>Precision</th>\n",
       "      <th>F1</th>\n",
       "    </tr>\n",
       "  </thead>\n",
       "  <tbody>\n",
       "    <tr>\n",
       "      <th>0</th>\n",
       "      <td>0.764017</td>\n",
       "      <td>0.882649</td>\n",
       "      <td>0.789059</td>\n",
       "      <td>0.833234</td>\n",
       "    </tr>\n",
       "  </tbody>\n",
       "</table>\n",
       "</div>"
      ],
      "text/plain": [
       "   Accuracy    Recall  Precision        F1\n",
       "0  0.764017  0.882649   0.789059  0.833234"
      ]
     },
     "execution_count": 98,
     "metadata": {},
     "output_type": "execute_result"
    }
   ],
   "source": [
    "gbc_tuned_model_train_perf = model_performance_classification_sklearn(gbc_tuned,X_train,y_train) \n",
    "gbc_tuned_model_train_perf"
   ]
  },
  {
   "cell_type": "markdown",
   "id": "subsequent-royalty",
   "metadata": {
    "id": "subsequent-royalty"
   },
   "source": [
    "#### Checking model performance on test set"
   ]
  },
  {
   "cell_type": "code",
   "execution_count": 99,
   "id": "other-pharmaceutical",
   "metadata": {
    "id": "other-pharmaceutical"
   },
   "outputs": [
    {
     "data": {
      "image/png": "[encoded data removed]",
      "text/plain": [
       "<Figure size 432x288 with 2 Axes>"
      ]
     },
     "metadata": {
      "needs_background": "light"
     },
     "output_type": "display_data"
    }
   ],
   "source": [
    "confusion_matrix_sklearn(gbc_tuned,X_test,y_test) "
   ]
  },
  {
   "cell_type": "code",
   "execution_count": 100,
   "id": "forward-perspective",
   "metadata": {
    "id": "forward-perspective"
   },
   "outputs": [
    {
     "data": {
      "text/html": [
       "<div>\n",
       "<style scoped>\n",
       "    .dataframe tbody tr th:only-of-type {\n",
       "        vertical-align: middle;\n",
       "    }\n",
       "\n",
       "    .dataframe tbody tr th {\n",
       "        vertical-align: top;\n",
       "    }\n",
       "\n",
       "    .dataframe thead th {\n",
       "        text-align: right;\n",
       "    }\n",
       "</style>\n",
       "<table border=\"1\" class=\"dataframe\">\n",
       "  <thead>\n",
       "    <tr style=\"text-align: right;\">\n",
       "      <th></th>\n",
       "      <th>Accuracy</th>\n",
       "      <th>Recall</th>\n",
       "      <th>Precision</th>\n",
       "      <th>F1</th>\n",
       "    </tr>\n",
       "  </thead>\n",
       "  <tbody>\n",
       "    <tr>\n",
       "      <th>0</th>\n",
       "      <td>0.743459</td>\n",
       "      <td>0.871303</td>\n",
       "      <td>0.773296</td>\n",
       "      <td>0.819379</td>\n",
       "    </tr>\n",
       "  </tbody>\n",
       "</table>\n",
       "</div>"
      ],
      "text/plain": [
       "   Accuracy    Recall  Precision        F1\n",
       "0  0.743459  0.871303   0.773296  0.819379"
      ]
     },
     "execution_count": 100,
     "metadata": {},
     "output_type": "execute_result"
    }
   ],
   "source": [
    "gbc_tuned_model_test_perf = model_performance_classification_sklearn(gbc_tuned,X_test,y_test)\n",
    "gbc_tuned_model_test_perf"
   ]
  },
  {
   "cell_type": "markdown",
   "id": "c32a0b4a",
   "metadata": {},
   "source": [
    "- No over fitting observed."
   ]
  },
  {
   "cell_type": "markdown",
   "id": "superior-letter",
   "metadata": {
    "id": "superior-letter"
   },
   "source": [
    "### XGBoost Classifier"
   ]
  },
  {
   "cell_type": "code",
   "execution_count": 101,
   "id": "laden-brighton",
   "metadata": {
    "id": "laden-brighton"
   },
   "outputs": [
    {
     "data": {
      "text/plain": [
       "XGBClassifier(base_score=0.5, booster='gbtree', colsample_bylevel=1,\n",
       "              colsample_bynode=1, colsample_bytree=1, enable_categorical=False,\n",
       "              eval_metric='logloss', gamma=0, gpu_id=-1, importance_type=None,\n",
       "              interaction_constraints='', learning_rate=0.300000012,\n",
       "              max_delta_step=0, max_depth=6, min_child_weight=1, missing=nan,\n",
       "              monotone_constraints='()', n_estimators=100, n_jobs=8,\n",
       "              num_parallel_tree=1, predictor='auto', random_state=1,\n",
       "              reg_alpha=0, reg_lambda=1, scale_pos_weight=1, subsample=1,\n",
       "              tree_method='exact', validate_parameters=1, verbosity=None)"
      ]
     },
     "execution_count": 101,
     "metadata": {},
     "output_type": "execute_result"
    }
   ],
   "source": [
    "xgb = XGBClassifier(random_state=1,eval_metric='logloss')\n",
    "xgb.fit(X_train,y_train)"
   ]
  },
  {
   "cell_type": "markdown",
   "id": "muslim-machine",
   "metadata": {
    "id": "muslim-machine"
   },
   "source": [
    "#### Checking model performance on training set"
   ]
  },
  {
   "cell_type": "code",
   "execution_count": 102,
   "id": "subsequent-dividend",
   "metadata": {
    "id": "subsequent-dividend"
   },
   "outputs": [
    {
     "data": {
      "image/png": "[encoded data removed]",
      "text/plain": [
       "<Figure size 432x288 with 2 Axes>"
      ]
     },
     "metadata": {
      "needs_background": "light"
     },
     "output_type": "display_data"
    }
   ],
   "source": [
    "confusion_matrix_sklearn(xgb,X_train,y_train) "
   ]
  },
  {
   "cell_type": "code",
   "execution_count": 103,
   "id": "creative-shock",
   "metadata": {
    "id": "creative-shock"
   },
   "outputs": [
    {
     "data": {
      "text/html": [
       "<div>\n",
       "<style scoped>\n",
       "    .dataframe tbody tr th:only-of-type {\n",
       "        vertical-align: middle;\n",
       "    }\n",
       "\n",
       "    .dataframe tbody tr th {\n",
       "        vertical-align: top;\n",
       "    }\n",
       "\n",
       "    .dataframe thead th {\n",
       "        text-align: right;\n",
       "    }\n",
       "</style>\n",
       "<table border=\"1\" class=\"dataframe\">\n",
       "  <thead>\n",
       "    <tr style=\"text-align: right;\">\n",
       "      <th></th>\n",
       "      <th>Accuracy</th>\n",
       "      <th>Recall</th>\n",
       "      <th>Precision</th>\n",
       "      <th>F1</th>\n",
       "    </tr>\n",
       "  </thead>\n",
       "  <tbody>\n",
       "    <tr>\n",
       "      <th>0</th>\n",
       "      <td>0.838753</td>\n",
       "      <td>0.931419</td>\n",
       "      <td>0.843482</td>\n",
       "      <td>0.885272</td>\n",
       "    </tr>\n",
       "  </tbody>\n",
       "</table>\n",
       "</div>"
      ],
      "text/plain": [
       "   Accuracy    Recall  Precision        F1\n",
       "0  0.838753  0.931419   0.843482  0.885272"
      ]
     },
     "execution_count": 103,
     "metadata": {},
     "output_type": "execute_result"
    }
   ],
   "source": [
    "xgb_classifier_model_train_perf = model_performance_classification_sklearn(xgb,X_train,y_train) \n",
    "xgb_classifier_model_train_perf"
   ]
  },
  {
   "cell_type": "markdown",
   "id": "advised-rabbit",
   "metadata": {
    "id": "advised-rabbit"
   },
   "source": [
    "#### Checking model performance on test set"
   ]
  },
  {
   "cell_type": "code",
   "execution_count": 104,
   "id": "intense-delhi",
   "metadata": {
    "id": "intense-delhi"
   },
   "outputs": [
    {
     "data": {
      "image/png": "[encoded data removed]",
      "text/plain": [
       "<Figure size 432x288 with 2 Axes>"
      ]
     },
     "metadata": {
      "needs_background": "light"
     },
     "output_type": "display_data"
    }
   ],
   "source": [
    "confusion_matrix_sklearn(xgb,X_test,y_test) "
   ]
  },
  {
   "cell_type": "code",
   "execution_count": 105,
   "id": "conventional-hierarchy",
   "metadata": {
    "id": "conventional-hierarchy"
   },
   "outputs": [
    {
     "data": {
      "text/html": [
       "<div>\n",
       "<style scoped>\n",
       "    .dataframe tbody tr th:only-of-type {\n",
       "        vertical-align: middle;\n",
       "    }\n",
       "\n",
       "    .dataframe tbody tr th {\n",
       "        vertical-align: top;\n",
       "    }\n",
       "\n",
       "    .dataframe thead th {\n",
       "        text-align: right;\n",
       "    }\n",
       "</style>\n",
       "<table border=\"1\" class=\"dataframe\">\n",
       "  <thead>\n",
       "    <tr style=\"text-align: right;\">\n",
       "      <th></th>\n",
       "      <th>Accuracy</th>\n",
       "      <th>Recall</th>\n",
       "      <th>Precision</th>\n",
       "      <th>F1</th>\n",
       "    </tr>\n",
       "  </thead>\n",
       "  <tbody>\n",
       "    <tr>\n",
       "      <th>0</th>\n",
       "      <td>0.733255</td>\n",
       "      <td>0.860725</td>\n",
       "      <td>0.767913</td>\n",
       "      <td>0.811675</td>\n",
       "    </tr>\n",
       "  </tbody>\n",
       "</table>\n",
       "</div>"
      ],
      "text/plain": [
       "   Accuracy    Recall  Precision        F1\n",
       "0  0.733255  0.860725   0.767913  0.811675"
      ]
     },
     "execution_count": 105,
     "metadata": {},
     "output_type": "execute_result"
    }
   ],
   "source": [
    "xgb_classifier_model_test_perf = model_performance_classification_sklearn(xgb,X_test,y_test) \n",
    "xgb_classifier_model_test_perf"
   ]
  },
  {
   "cell_type": "markdown",
   "id": "288aaea6",
   "metadata": {},
   "source": [
    "- The model is over fitting. Let's check hyperparameter tuning."
   ]
  },
  {
   "cell_type": "markdown",
   "id": "mobile-chosen",
   "metadata": {
    "id": "mobile-chosen"
   },
   "source": [
    "### Hyperparameter Tuning - XGBoost Classifier"
   ]
  },
  {
   "cell_type": "code",
   "execution_count": 106,
   "id": "aerial-trunk",
   "metadata": {
    "id": "aerial-trunk"
   },
   "outputs": [
    {
     "data": {
      "text/plain": [
       "XGBClassifier(base_score=0.5, booster='gbtree', colsample_bylevel=1,\n",
       "              colsample_bynode=1, colsample_bytree=0.9,\n",
       "              enable_categorical=False, eval_metric='logloss', gamma=5,\n",
       "              gpu_id=-1, importance_type=None, interaction_constraints='',\n",
       "              learning_rate=0.1, max_delta_step=0, max_depth=6,\n",
       "              min_child_weight=1, missing=nan, monotone_constraints='()',\n",
       "              n_estimators=200, n_jobs=8, num_parallel_tree=1, predictor='auto',\n",
       "              random_state=1, reg_alpha=0, reg_lambda=1, scale_pos_weight=1,\n",
       "              subsample=1, tree_method='exact', validate_parameters=1,\n",
       "              verbosity=None)"
      ]
     },
     "execution_count": 106,
     "metadata": {},
     "output_type": "execute_result"
    }
   ],
   "source": [
    "# Choose the type of classifier.\n",
    "xgb_tuned = XGBClassifier(random_state=1, eval_metric=\"logloss\")\n",
    "\n",
    "# Grid of parameters to choose from\n",
    "parameters = {\n",
    "    \"n_estimators\": np.arange(150, 250, 50),\n",
    "    \"scale_pos_weight\": [1, 2],\n",
    "    \"subsample\": [0.9, 1],\n",
    "    \"learning_rate\": np.arange(0.1, 0.21, 0.1),\n",
    "    \"gamma\": [3, 5],\n",
    "    \"colsample_bytree\": [0.8, 0.9],\n",
    "    \"colsample_bylevel\": [ 0.9, 1],\n",
    "}\n",
    "\n",
    "# Type of scoring used to compare parameter combinations\n",
    "acc_scorer = metrics.make_scorer(metrics.f1_score)\n",
    "\n",
    "# Run the grid search\n",
    "grid_obj =  GridSearchCV(xgb_tuned, parameters, scoring=acc_scorer, cv=5) \n",
    "grid_obj = grid_obj.fit(X_train,y_train) \n",
    "\n",
    "# Set the clf to the best combination of parameters\n",
    "xgb_tuned = grid_obj.best_estimator_\n",
    "\n",
    "# Fit the best algorithm to the data.\n",
    "xgb_tuned.fit(X_train, y_train)"
   ]
  },
  {
   "cell_type": "markdown",
   "id": "psychological-plenty",
   "metadata": {
    "id": "psychological-plenty"
   },
   "source": [
    "#### Checking model performance on training set"
   ]
  },
  {
   "cell_type": "code",
   "execution_count": 107,
   "id": "static-yesterday",
   "metadata": {
    "id": "static-yesterday"
   },
   "outputs": [
    {
     "data": {
      "image/png": "[encoded data removed]",
      "text/plain": [
       "<Figure size 432x288 with 2 Axes>"
      ]
     },
     "metadata": {
      "needs_background": "light"
     },
     "output_type": "display_data"
    }
   ],
   "source": [
    "confusion_matrix_sklearn(xgb_tuned,X_train,y_train)"
   ]
  },
  {
   "cell_type": "code",
   "execution_count": 108,
   "id": "premium-today",
   "metadata": {
    "id": "premium-today"
   },
   "outputs": [
    {
     "data": {
      "text/html": [
       "<div>\n",
       "<style scoped>\n",
       "    .dataframe tbody tr th:only-of-type {\n",
       "        vertical-align: middle;\n",
       "    }\n",
       "\n",
       "    .dataframe tbody tr th {\n",
       "        vertical-align: top;\n",
       "    }\n",
       "\n",
       "    .dataframe thead th {\n",
       "        text-align: right;\n",
       "    }\n",
       "</style>\n",
       "<table border=\"1\" class=\"dataframe\">\n",
       "  <thead>\n",
       "    <tr style=\"text-align: right;\">\n",
       "      <th></th>\n",
       "      <th>Accuracy</th>\n",
       "      <th>Recall</th>\n",
       "      <th>Precision</th>\n",
       "      <th>F1</th>\n",
       "    </tr>\n",
       "  </thead>\n",
       "  <tbody>\n",
       "    <tr>\n",
       "      <th>0</th>\n",
       "      <td>0.765474</td>\n",
       "      <td>0.881642</td>\n",
       "      <td>0.791127</td>\n",
       "      <td>0.833935</td>\n",
       "    </tr>\n",
       "  </tbody>\n",
       "</table>\n",
       "</div>"
      ],
      "text/plain": [
       "   Accuracy    Recall  Precision        F1\n",
       "0  0.765474  0.881642   0.791127  0.833935"
      ]
     },
     "execution_count": 108,
     "metadata": {},
     "output_type": "execute_result"
    }
   ],
   "source": [
    "xgb_tuned_model_train_perf = model_performance_classification_sklearn(xgb_tuned,X_train,y_train)\n",
    "xgb_tuned_model_train_perf"
   ]
  },
  {
   "cell_type": "markdown",
   "id": "awful-judgment",
   "metadata": {
    "id": "awful-judgment"
   },
   "source": [
    "#### Checking model performance on test set"
   ]
  },
  {
   "cell_type": "code",
   "execution_count": 109,
   "id": "thrown-toilet",
   "metadata": {
    "id": "thrown-toilet"
   },
   "outputs": [
    {
     "data": {
      "image/png": "[encoded data removed]",
      "text/plain": [
       "<Figure size 432x288 with 2 Axes>"
      ]
     },
     "metadata": {
      "needs_background": "light"
     },
     "output_type": "display_data"
    }
   ],
   "source": [
    "confusion_matrix_sklearn(xgb_tuned,X_test,y_test) "
   ]
  },
  {
   "cell_type": "code",
   "execution_count": 110,
   "id": "available-irrigation",
   "metadata": {
    "id": "available-irrigation"
   },
   "outputs": [
    {
     "data": {
      "text/html": [
       "<div>\n",
       "<style scoped>\n",
       "    .dataframe tbody tr th:only-of-type {\n",
       "        vertical-align: middle;\n",
       "    }\n",
       "\n",
       "    .dataframe tbody tr th {\n",
       "        vertical-align: top;\n",
       "    }\n",
       "\n",
       "    .dataframe thead th {\n",
       "        text-align: right;\n",
       "    }\n",
       "</style>\n",
       "<table border=\"1\" class=\"dataframe\">\n",
       "  <thead>\n",
       "    <tr style=\"text-align: right;\">\n",
       "      <th></th>\n",
       "      <th>Accuracy</th>\n",
       "      <th>Recall</th>\n",
       "      <th>Precision</th>\n",
       "      <th>F1</th>\n",
       "    </tr>\n",
       "  </thead>\n",
       "  <tbody>\n",
       "    <tr>\n",
       "      <th>0</th>\n",
       "      <td>0.74516</td>\n",
       "      <td>0.86954</td>\n",
       "      <td>0.775913</td>\n",
       "      <td>0.820063</td>\n",
       "    </tr>\n",
       "  </tbody>\n",
       "</table>\n",
       "</div>"
      ],
      "text/plain": [
       "   Accuracy   Recall  Precision        F1\n",
       "0   0.74516  0.86954   0.775913  0.820063"
      ]
     },
     "execution_count": 110,
     "metadata": {},
     "output_type": "execute_result"
    }
   ],
   "source": [
    "xgb_tuned_model_test_perf = model_performance_classification_sklearn(xgb_tuned,X_test,y_test) \n",
    "xgb_tuned_model_test_perf"
   ]
  },
  {
   "cell_type": "markdown",
   "id": "ec776368",
   "metadata": {},
   "source": [
    "- The model has improved after hyperparameter tuning."
   ]
  },
  {
   "cell_type": "markdown",
   "id": "disciplinary-manhattan",
   "metadata": {
    "id": "disciplinary-manhattan"
   },
   "source": [
    "### Stacking Classifier"
   ]
  },
  {
   "cell_type": "code",
   "execution_count": 111,
   "id": "massive-cincinnati",
   "metadata": {
    "id": "massive-cincinnati"
   },
   "outputs": [
    {
     "data": {
      "text/plain": [
       "StackingClassifier(estimators=[('AdaBoost', AdaBoostClassifier(random_state=1)),\n",
       "                               ('Gradient Boosting',\n",
       "                                GradientBoostingClassifier(init=AdaBoostClassifier(random_state=1),\n",
       "                                                           max_features=0.8,\n",
       "                                                           n_estimators=200,\n",
       "                                                           random_state=1,\n",
       "                                                           subsample=1)),\n",
       "                               ('Random Forest',\n",
       "                                RandomForestClassifier(max_depth=10,\n",
       "                                                       max_features='sqrt',\n",
       "                                                       min_samples_split=7,\n",
       "                                                       n_estimators=20,\n",
       "                                                       oob_score=Tru...\n",
       "                                                 gpu_id=-1,\n",
       "                                                 importance_type=None,\n",
       "                                                 interaction_constraints='',\n",
       "                                                 learning_rate=0.1,\n",
       "                                                 max_delta_step=0, max_depth=6,\n",
       "                                                 min_child_weight=1,\n",
       "                                                 missing=nan,\n",
       "                                                 monotone_constraints='()',\n",
       "                                                 n_estimators=200, n_jobs=8,\n",
       "                                                 num_parallel_tree=1,\n",
       "                                                 predictor='auto',\n",
       "                                                 random_state=1, reg_alpha=0,\n",
       "                                                 reg_lambda=1,\n",
       "                                                 scale_pos_weight=1,\n",
       "                                                 subsample=1,\n",
       "                                                 tree_method='exact',\n",
       "                                                 validate_parameters=1,\n",
       "                                                 verbosity=None))"
      ]
     },
     "execution_count": 111,
     "metadata": {},
     "output_type": "execute_result"
    }
   ],
   "source": [
    "estimators = [\n",
    "    (\"AdaBoost\", abc),\n",
    "    (\"Gradient Boosting\", gbc_tuned),\n",
    "    (\"Random Forest\", rf_tuned),\n",
    "]\n",
    "\n",
    "final_estimator = xgb_tuned\n",
    "\n",
    "stacking_estimator= StackingClassifier(estimators=estimators,final_estimator=final_estimator)\n",
    "\n",
    "stacking_estimator.fit(X_train,y_train) "
   ]
  },
  {
   "cell_type": "markdown",
   "id": "greek-jefferson",
   "metadata": {
    "id": "greek-jefferson"
   },
   "source": [
    "#### Checking model performance on training set"
   ]
  },
  {
   "cell_type": "code",
   "execution_count": 112,
   "id": "under-brazilian",
   "metadata": {
    "id": "under-brazilian"
   },
   "outputs": [
    {
     "data": {
      "image/png": "[encoded data removed]",
      "text/plain": [
       "<Figure size 432x288 with 2 Axes>"
      ]
     },
     "metadata": {
      "needs_background": "light"
     },
     "output_type": "display_data"
    }
   ],
   "source": [
    "confusion_matrix_sklearn(stacking_estimator,X_train,y_train) "
   ]
  },
  {
   "cell_type": "code",
   "execution_count": 113,
   "id": "apparent-greenhouse",
   "metadata": {
    "id": "apparent-greenhouse"
   },
   "outputs": [
    {
     "data": {
      "text/html": [
       "<div>\n",
       "<style scoped>\n",
       "    .dataframe tbody tr th:only-of-type {\n",
       "        vertical-align: middle;\n",
       "    }\n",
       "\n",
       "    .dataframe tbody tr th {\n",
       "        vertical-align: top;\n",
       "    }\n",
       "\n",
       "    .dataframe thead th {\n",
       "        text-align: right;\n",
       "    }\n",
       "</style>\n",
       "<table border=\"1\" class=\"dataframe\">\n",
       "  <thead>\n",
       "    <tr style=\"text-align: right;\">\n",
       "      <th></th>\n",
       "      <th>Accuracy</th>\n",
       "      <th>Recall</th>\n",
       "      <th>Precision</th>\n",
       "      <th>F1</th>\n",
       "    </tr>\n",
       "  </thead>\n",
       "  <tbody>\n",
       "    <tr>\n",
       "      <th>0</th>\n",
       "      <td>0.770296</td>\n",
       "      <td>0.892554</td>\n",
       "      <td>0.790558</td>\n",
       "      <td>0.838465</td>\n",
       "    </tr>\n",
       "  </tbody>\n",
       "</table>\n",
       "</div>"
      ],
      "text/plain": [
       "   Accuracy    Recall  Precision        F1\n",
       "0  0.770296  0.892554   0.790558  0.838465"
      ]
     },
     "execution_count": 113,
     "metadata": {},
     "output_type": "execute_result"
    }
   ],
   "source": [
    "stacking_classifier_model_train_perf = model_performance_classification_sklearn(stacking_estimator,X_train,y_train)\n",
    "stacking_classifier_model_train_perf"
   ]
  },
  {
   "cell_type": "markdown",
   "id": "corrected-agency",
   "metadata": {
    "id": "corrected-agency"
   },
   "source": [
    "#### Checking model performance on test set"
   ]
  },
  {
   "cell_type": "code",
   "execution_count": 114,
   "id": "empty-agent",
   "metadata": {
    "id": "empty-agent"
   },
   "outputs": [
    {
     "data": {
      "image/png": "[encoded data removed]",
      "text/plain": [
       "<Figure size 432x288 with 2 Axes>"
      ]
     },
     "metadata": {
      "needs_background": "light"
     },
     "output_type": "display_data"
    }
   ],
   "source": [
    "confusion_matrix_sklearn(stacking_estimator,X_test,y_test) "
   ]
  },
  {
   "cell_type": "code",
   "execution_count": 115,
   "id": "quantitative-neighborhood",
   "metadata": {
    "id": "quantitative-neighborhood"
   },
   "outputs": [
    {
     "data": {
      "text/html": [
       "<div>\n",
       "<style scoped>\n",
       "    .dataframe tbody tr th:only-of-type {\n",
       "        vertical-align: middle;\n",
       "    }\n",
       "\n",
       "    .dataframe tbody tr th {\n",
       "        vertical-align: top;\n",
       "    }\n",
       "\n",
       "    .dataframe thead th {\n",
       "        text-align: right;\n",
       "    }\n",
       "</style>\n",
       "<table border=\"1\" class=\"dataframe\">\n",
       "  <thead>\n",
       "    <tr style=\"text-align: right;\">\n",
       "      <th></th>\n",
       "      <th>Accuracy</th>\n",
       "      <th>Recall</th>\n",
       "      <th>Precision</th>\n",
       "      <th>F1</th>\n",
       "    </tr>\n",
       "  </thead>\n",
       "  <tbody>\n",
       "    <tr>\n",
       "      <th>0</th>\n",
       "      <td>0.74529</td>\n",
       "      <td>0.879138</td>\n",
       "      <td>0.771399</td>\n",
       "      <td>0.821752</td>\n",
       "    </tr>\n",
       "  </tbody>\n",
       "</table>\n",
       "</div>"
      ],
      "text/plain": [
       "   Accuracy    Recall  Precision        F1\n",
       "0   0.74529  0.879138   0.771399  0.821752"
      ]
     },
     "execution_count": 115,
     "metadata": {},
     "output_type": "execute_result"
    }
   ],
   "source": [
    "stacking_classifier_model_test_perf = model_performance_classification_sklearn(stacking_estimator,X_test,y_test)\n",
    "stacking_classifier_model_test_perf"
   ]
  },
  {
   "cell_type": "markdown",
   "id": "mechanical-clarity",
   "metadata": {
    "id": "mechanical-clarity"
   },
   "source": [
    "### Conclusion"
   ]
  },
  {
   "cell_type": "markdown",
   "id": "royal-panel",
   "metadata": {
    "id": "royal-panel"
   },
   "source": [
    "**Comparing all models**"
   ]
  },
  {
   "cell_type": "code",
   "execution_count": 116,
   "id": "future-irrigation",
   "metadata": {
    "id": "future-irrigation"
   },
   "outputs": [
    {
     "name": "stdout",
     "output_type": "stream",
     "text": [
      "Training performance comparison:\n"
     ]
    },
    {
     "data": {
      "text/html": [
       "<div>\n",
       "<style scoped>\n",
       "    .dataframe tbody tr th:only-of-type {\n",
       "        vertical-align: middle;\n",
       "    }\n",
       "\n",
       "    .dataframe tbody tr th {\n",
       "        vertical-align: top;\n",
       "    }\n",
       "\n",
       "    .dataframe thead th {\n",
       "        text-align: right;\n",
       "    }\n",
       "</style>\n",
       "<table border=\"1\" class=\"dataframe\">\n",
       "  <thead>\n",
       "    <tr style=\"text-align: right;\">\n",
       "      <th></th>\n",
       "      <th>Decision Tree</th>\n",
       "      <th>Tuned Decision Tree</th>\n",
       "      <th>Bagging Classifier</th>\n",
       "      <th>Tuned Bagging Classifier</th>\n",
       "      <th>Random Forest</th>\n",
       "      <th>Tuned Random Forest</th>\n",
       "      <th>Adaboost Classifier</th>\n",
       "      <th>Tuned Adaboost Classifier</th>\n",
       "      <th>Gradient Boost Classifier</th>\n",
       "      <th>Tuned Gradient Boost Classifier</th>\n",
       "      <th>XGBoost Classifier</th>\n",
       "      <th>XGBoost Classifier Tuned</th>\n",
       "      <th>Stacking Classifier</th>\n",
       "    </tr>\n",
       "  </thead>\n",
       "  <tbody>\n",
       "    <tr>\n",
       "      <th>Accuracy</th>\n",
       "      <td>1.0</td>\n",
       "      <td>0.712548</td>\n",
       "      <td>0.985198</td>\n",
       "      <td>0.996187</td>\n",
       "      <td>1.0</td>\n",
       "      <td>0.769119</td>\n",
       "      <td>0.738226</td>\n",
       "      <td>0.718995</td>\n",
       "      <td>0.758802</td>\n",
       "      <td>0.764017</td>\n",
       "      <td>0.838753</td>\n",
       "      <td>0.765474</td>\n",
       "      <td>0.770296</td>\n",
       "    </tr>\n",
       "    <tr>\n",
       "      <th>Recall</th>\n",
       "      <td>1.0</td>\n",
       "      <td>0.931923</td>\n",
       "      <td>0.985982</td>\n",
       "      <td>0.999916</td>\n",
       "      <td>1.0</td>\n",
       "      <td>0.918660</td>\n",
       "      <td>0.887182</td>\n",
       "      <td>0.781247</td>\n",
       "      <td>0.883740</td>\n",
       "      <td>0.882649</td>\n",
       "      <td>0.931419</td>\n",
       "      <td>0.881642</td>\n",
       "      <td>0.892554</td>\n",
       "    </tr>\n",
       "    <tr>\n",
       "      <th>Precision</th>\n",
       "      <td>1.0</td>\n",
       "      <td>0.720067</td>\n",
       "      <td>0.991810</td>\n",
       "      <td>0.994407</td>\n",
       "      <td>1.0</td>\n",
       "      <td>0.776556</td>\n",
       "      <td>0.760688</td>\n",
       "      <td>0.794587</td>\n",
       "      <td>0.783042</td>\n",
       "      <td>0.789059</td>\n",
       "      <td>0.843482</td>\n",
       "      <td>0.791127</td>\n",
       "      <td>0.790558</td>\n",
       "    </tr>\n",
       "    <tr>\n",
       "      <th>F1</th>\n",
       "      <td>1.0</td>\n",
       "      <td>0.812411</td>\n",
       "      <td>0.988887</td>\n",
       "      <td>0.997154</td>\n",
       "      <td>1.0</td>\n",
       "      <td>0.841652</td>\n",
       "      <td>0.819080</td>\n",
       "      <td>0.787861</td>\n",
       "      <td>0.830349</td>\n",
       "      <td>0.833234</td>\n",
       "      <td>0.885272</td>\n",
       "      <td>0.833935</td>\n",
       "      <td>0.838465</td>\n",
       "    </tr>\n",
       "  </tbody>\n",
       "</table>\n",
       "</div>"
      ],
      "text/plain": [
       "           Decision Tree  Tuned Decision Tree  Bagging Classifier  \\\n",
       "Accuracy             1.0             0.712548            0.985198   \n",
       "Recall               1.0             0.931923            0.985982   \n",
       "Precision            1.0             0.720067            0.991810   \n",
       "F1                   1.0             0.812411            0.988887   \n",
       "\n",
       "           Tuned Bagging Classifier  Random Forest  Tuned Random Forest  \\\n",
       "Accuracy                   0.996187            1.0             0.769119   \n",
       "Recall                     0.999916            1.0             0.918660   \n",
       "Precision                  0.994407            1.0             0.776556   \n",
       "F1                         0.997154            1.0             0.841652   \n",
       "\n",
       "           Adaboost Classifier  Tuned Adaboost Classifier  \\\n",
       "Accuracy              0.738226                   0.718995   \n",
       "Recall                0.887182                   0.781247   \n",
       "Precision             0.760688                   0.794587   \n",
       "F1                    0.819080                   0.787861   \n",
       "\n",
       "           Gradient Boost Classifier  Tuned Gradient Boost Classifier  \\\n",
       "Accuracy                    0.758802                         0.764017   \n",
       "Recall                      0.883740                         0.882649   \n",
       "Precision                   0.783042                         0.789059   \n",
       "F1                          0.830349                         0.833234   \n",
       "\n",
       "           XGBoost Classifier  XGBoost Classifier Tuned  Stacking Classifier  \n",
       "Accuracy             0.838753                  0.765474             0.770296  \n",
       "Recall               0.931419                  0.881642             0.892554  \n",
       "Precision            0.843482                  0.791127             0.790558  \n",
       "F1                   0.885272                  0.833935             0.838465  "
      ]
     },
     "execution_count": 116,
     "metadata": {},
     "output_type": "execute_result"
    }
   ],
   "source": [
    "# training performance comparison\n",
    "\n",
    "models_train_comp_df = pd.concat(\n",
    "    [\n",
    "        decision_tree_perf_train.T,\n",
    "        dtree_estimator_model_train_perf.T,\n",
    "        bagging_classifier_model_train_perf.T,\n",
    "        bagging_estimator_tuned_model_train_perf.T,\n",
    "        rf_estimator_model_train_perf.T,\n",
    "        rf_tuned_model_train_perf.T,\n",
    "        abc_model_train_perf.T,\n",
    "        abc_tuned_model_train_perf.T,\n",
    "        gbc_model_train_perf.T,\n",
    "        gbc_tuned_model_train_perf.T,\n",
    "        xgb_classifier_model_train_perf.T,\n",
    "        xgb_tuned_model_train_perf.T,\n",
    "        stacking_classifier_model_train_perf.T,\n",
    "    ],\n",
    "    axis=1,\n",
    ")\n",
    "models_train_comp_df.columns = [\n",
    "    \"Decision Tree\",\n",
    "    \"Tuned Decision Tree\",\n",
    "    \"Bagging Classifier\",\n",
    "    \"Tuned Bagging Classifier\",\n",
    "    \"Random Forest\",\n",
    "    \"Tuned Random Forest\",\n",
    "    \"Adaboost Classifier\",\n",
    "    \"Tuned Adaboost Classifier\",\n",
    "    \"Gradient Boost Classifier\",\n",
    "    \"Tuned Gradient Boost Classifier\",\n",
    "    \"XGBoost Classifier\",\n",
    "    \"XGBoost Classifier Tuned\",\n",
    "    \"Stacking Classifier\",\n",
    "]\n",
    "print(\"Training performance comparison:\")\n",
    "models_train_comp_df"
   ]
  },
  {
   "cell_type": "code",
   "execution_count": 117,
   "id": "collective-fireplace",
   "metadata": {
    "id": "collective-fireplace"
   },
   "outputs": [
    {
     "name": "stdout",
     "output_type": "stream",
     "text": [
      "Testing performance comparison:\n"
     ]
    },
    {
     "data": {
      "text/html": [
       "<div>\n",
       "<style scoped>\n",
       "    .dataframe tbody tr th:only-of-type {\n",
       "        vertical-align: middle;\n",
       "    }\n",
       "\n",
       "    .dataframe tbody tr th {\n",
       "        vertical-align: top;\n",
       "    }\n",
       "\n",
       "    .dataframe thead th {\n",
       "        text-align: right;\n",
       "    }\n",
       "</style>\n",
       "<table border=\"1\" class=\"dataframe\">\n",
       "  <thead>\n",
       "    <tr style=\"text-align: right;\">\n",
       "      <th></th>\n",
       "      <th>Decision Tree</th>\n",
       "      <th>Tuned Decision Tree</th>\n",
       "      <th>Bagging Classifier</th>\n",
       "      <th>Tuned Bagging Classifier</th>\n",
       "      <th>Random Forest</th>\n",
       "      <th>Tuned Random Forest</th>\n",
       "      <th>Adaboost Classifier</th>\n",
       "      <th>Tuned Adaboost Classifier</th>\n",
       "      <th>Gradient Boost Classifier</th>\n",
       "      <th>Tuned Gradient Boost Classifier</th>\n",
       "      <th>XGBoost Classifier</th>\n",
       "      <th>XGBoost Classifier Tuned</th>\n",
       "      <th>Stacking Classifier</th>\n",
       "    </tr>\n",
       "  </thead>\n",
       "  <tbody>\n",
       "    <tr>\n",
       "      <th>Accuracy</th>\n",
       "      <td>0.664835</td>\n",
       "      <td>0.706567</td>\n",
       "      <td>0.691523</td>\n",
       "      <td>0.724228</td>\n",
       "      <td>0.727368</td>\n",
       "      <td>0.738095</td>\n",
       "      <td>0.734301</td>\n",
       "      <td>0.716510</td>\n",
       "      <td>0.744767</td>\n",
       "      <td>0.743459</td>\n",
       "      <td>0.733255</td>\n",
       "      <td>0.745160</td>\n",
       "      <td>0.745290</td>\n",
       "    </tr>\n",
       "    <tr>\n",
       "      <th>Recall</th>\n",
       "      <td>0.742801</td>\n",
       "      <td>0.930852</td>\n",
       "      <td>0.764153</td>\n",
       "      <td>0.895397</td>\n",
       "      <td>0.847209</td>\n",
       "      <td>0.898923</td>\n",
       "      <td>0.885015</td>\n",
       "      <td>0.781391</td>\n",
       "      <td>0.876004</td>\n",
       "      <td>0.871303</td>\n",
       "      <td>0.860725</td>\n",
       "      <td>0.869540</td>\n",
       "      <td>0.879138</td>\n",
       "    </tr>\n",
       "    <tr>\n",
       "      <th>Precision</th>\n",
       "      <td>0.752232</td>\n",
       "      <td>0.715447</td>\n",
       "      <td>0.771711</td>\n",
       "      <td>0.743857</td>\n",
       "      <td>0.768343</td>\n",
       "      <td>0.755391</td>\n",
       "      <td>0.757799</td>\n",
       "      <td>0.791468</td>\n",
       "      <td>0.772366</td>\n",
       "      <td>0.773296</td>\n",
       "      <td>0.767913</td>\n",
       "      <td>0.775913</td>\n",
       "      <td>0.771399</td>\n",
       "    </tr>\n",
       "    <tr>\n",
       "      <th>F1</th>\n",
       "      <td>0.747487</td>\n",
       "      <td>0.809058</td>\n",
       "      <td>0.767913</td>\n",
       "      <td>0.812622</td>\n",
       "      <td>0.805851</td>\n",
       "      <td>0.820930</td>\n",
       "      <td>0.816481</td>\n",
       "      <td>0.786397</td>\n",
       "      <td>0.820927</td>\n",
       "      <td>0.819379</td>\n",
       "      <td>0.811675</td>\n",
       "      <td>0.820063</td>\n",
       "      <td>0.821752</td>\n",
       "    </tr>\n",
       "  </tbody>\n",
       "</table>\n",
       "</div>"
      ],
      "text/plain": [
       "           Decision Tree  Tuned Decision Tree  Bagging Classifier  \\\n",
       "Accuracy        0.664835             0.706567            0.691523   \n",
       "Recall          0.742801             0.930852            0.764153   \n",
       "Precision       0.752232             0.715447            0.771711   \n",
       "F1              0.747487             0.809058            0.767913   \n",
       "\n",
       "           Tuned Bagging Classifier  Random Forest  Tuned Random Forest  \\\n",
       "Accuracy                   0.724228       0.727368             0.738095   \n",
       "Recall                     0.895397       0.847209             0.898923   \n",
       "Precision                  0.743857       0.768343             0.755391   \n",
       "F1                         0.812622       0.805851             0.820930   \n",
       "\n",
       "           Adaboost Classifier  Tuned Adaboost Classifier  \\\n",
       "Accuracy              0.734301                   0.716510   \n",
       "Recall                0.885015                   0.781391   \n",
       "Precision             0.757799                   0.791468   \n",
       "F1                    0.816481                   0.786397   \n",
       "\n",
       "           Gradient Boost Classifier  Tuned Gradient Boost Classifier  \\\n",
       "Accuracy                    0.744767                         0.743459   \n",
       "Recall                      0.876004                         0.871303   \n",
       "Precision                   0.772366                         0.773296   \n",
       "F1                          0.820927                         0.819379   \n",
       "\n",
       "           XGBoost Classifier  XGBoost Classifier Tuned  Stacking Classifier  \n",
       "Accuracy             0.733255                  0.745160             0.745290  \n",
       "Recall               0.860725                  0.869540             0.879138  \n",
       "Precision            0.767913                  0.775913             0.771399  \n",
       "F1                   0.811675                  0.820063             0.821752  "
      ]
     },
     "execution_count": 117,
     "metadata": {},
     "output_type": "execute_result"
    }
   ],
   "source": [
    "# testing performance comparison\n",
    "models_test_comp_df = pd.concat(\n",
    "       [ decision_tree_perf_test.T,\n",
    "        dtree_estimator_model_test_perf.T,\n",
    "        bagging_classifier_model_test_perf.T,\n",
    "        bagging_estimator_tuned_model_test_perf.T,\n",
    "        rf_estimator_model_test_perf.T,\n",
    "        rf_tuned_model_test_perf.T,\n",
    "        abc_model_test_perf.T,\n",
    "        abc_tuned_model_test_perf.T,\n",
    "        gbc_model_test_perf.T,\n",
    "        gbc_tuned_model_test_perf.T,\n",
    "        xgb_classifier_model_test_perf.T,\n",
    "        xgb_tuned_model_test_perf.T,\n",
    "        stacking_classifier_model_test_perf.T,\n",
    "    ],\n",
    "    axis=1,\n",
    ")\n",
    "models_test_comp_df.columns = [\n",
    "    \"Decision Tree\",\n",
    "    \"Tuned Decision Tree\",\n",
    "    \"Bagging Classifier\",\n",
    "    \"Tuned Bagging Classifier\",\n",
    "    \"Random Forest\",\n",
    "    \"Tuned Random Forest\",\n",
    "    \"Adaboost Classifier\",\n",
    "    \"Tuned Adaboost Classifier\",\n",
    "    \"Gradient Boost Classifier\",\n",
    "    \"Tuned Gradient Boost Classifier\",\n",
    "    \"XGBoost Classifier\",\n",
    "    \"XGBoost Classifier Tuned\",\n",
    "    \"Stacking Classifier\",\n",
    "]\n",
    "print(\"Testing performance comparison:\")\n",
    "models_test_comp_df"
   ]
  },
  {
   "cell_type": "markdown",
   "id": "6b827aa6",
   "metadata": {},
   "source": [
    "* Many models like decision tree,bagging and random forest are overfitting the training data in terms of f1-score.\n",
    "* Models with good f1 score on test data like random forest tuned,stacking classifier are not giving a giving a generalized    performance.\n",
    "* The gradient boost classifier has a good test f1-score and is giving a more generalized performance as compared to the other models."
   ]
  },
  {
   "cell_type": "markdown",
   "id": "stone-venezuela",
   "metadata": {
    "id": "stone-venezuela"
   },
   "source": [
    "### Important features of the final model"
   ]
  },
  {
   "cell_type": "code",
   "execution_count": 118,
   "id": "forty-mayor",
   "metadata": {
    "id": "forty-mayor"
   },
   "outputs": [
    {
     "data": {
      "image/png": "[encoded data removed]",
      "text/plain": [
       "<Figure size 864x864 with 1 Axes>"
      ]
     },
     "metadata": {
      "needs_background": "light"
     },
     "output_type": "display_data"
    }
   ],
   "source": [
    "feature_names = X_train.columns\n",
    "importances = gbc.feature_importances_\n",
    "indices = np.argsort(importances)\n",
    "\n",
    "plt.figure(figsize=(12, 12))\n",
    "plt.title(\"Feature Importances\")\n",
    "plt.barh(range(len(indices)), importances[indices], color=\"violet\", align=\"center\")\n",
    "plt.yticks(range(len(indices)), [feature_names[i] for i in indices])\n",
    "plt.xlabel(\"Relative Importance\")\n",
    "plt.show()"
   ]
  },
  {
   "cell_type": "markdown",
   "id": "891e2b0a",
   "metadata": {},
   "source": [
    "- Education of employee high school is the most important feature for prediction followed by job experience and prevailing wage."
   ]
  },
  {
   "cell_type": "markdown",
   "id": "congressional-knock",
   "metadata": {
    "id": "congressional-knock"
   },
   "source": [
    "### Actionable Insights and Recommendations"
   ]
  },
  {
   "cell_type": "markdown",
   "id": "f958f449",
   "metadata": {},
   "source": [
    "* We have been able to build a predictive model: \n",
    " - a) that EasyVisa can deploy to identify employees for visa approvals \n",
    " - b) that EasyVisa can use to find the drivers of visa denials\n",
    "\n",
    "* Top Factors that are responsible for visa approvals - Education of employee, job experience and prevailing wage.\n",
    "\n",
    "- Education of employee: Employees with higher eduction get more visa approvals.\n",
    "\n",
    "- Job experience : Those employees who have more experience get more visa approvals as they are skilled and do not need training.\n",
    "\n",
    "- Prevailing wage : Higher the prevailing wage of employee, higher the chances of visa approval.\n",
    "\n",
    "* Pay unit that is most likely to be certified is annual while hourly pay unit has most visa denials.\n",
    "\n",
    "* Visa status varies across different continents. Most of the visas certified are from Asia and that is in bigger numbers.\n",
    "\n"
   ]
  }
 ],
 "metadata": {
  "colab": {
   "name": "ET_EasyVisa_Low Code.ipynb",
   "provenance": []
  },
  "kernelspec": {
   "display_name": "Python 3",
   "language": "python",
   "name": "python3"
  },
  "language_info": {
   "codemirror_mode": {
    "name": "ipython",
    "version": 3
   },
   "file_extension": ".py",
   "mimetype": "text/x-python",
   "name": "python",
   "nbconvert_exporter": "python",
   "pygments_lexer": "ipython3",
   "version": "3.8.8"
  }
 },
 "nbformat": 4,
 "nbformat_minor": 5
}
